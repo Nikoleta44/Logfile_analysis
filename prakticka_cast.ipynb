{
 "cells": [
  {
   "cell_type": "code",
   "execution_count": 1,
   "metadata": {},
   "outputs": [],
   "source": [
    "import pandas as pd\n",
    "import datetime\n",
    "import numpy as np\n",
    "import re\n",
    "from re import search"
   ]
  },
  {
   "cell_type": "code",
   "execution_count": 2,
   "metadata": {},
   "outputs": [],
   "source": [
    "with open(\"log.txt\", 'r') as infile, open('subor.txt', 'w') as outfile:\n",
    "    logFile = infile.read()\n",
    "    logFile = logFile.replace(\"-\", \"\")\n",
    "    logFile = logFile.replace(\" +0200\", \"+0200\")\n",
    "    logFile = logFile.replace(\" +0100\", \"+0100\")\n",
    "    logFile = logFile.replace(\" /\", \"/\")\n",
    "    logFile = logFile.replace(\" HTTP\", \"HTTP\")\n",
    "    logFile = logFile.replace(\"   \", \" \")\n",
    "    outfile.write(logFile)"
   ]
  },
  {
   "cell_type": "code",
   "execution_count": 3,
   "metadata": {},
   "outputs": [],
   "source": [
    "colNames = [\"eshop\", \"IP\", \"DateTime\", \"URL\", \"ResponseCode\", \"Bytes\", \"Referrer\", \"UserAgent\", \"9\", \"10\", \"11\", \"12\"]\n",
    "df = pd.read_csv(\"subor.txt\", sep=\" \", names=colNames)"
   ]
  },
  {
   "cell_type": "code",
   "execution_count": 4,
   "metadata": {},
   "outputs": [],
   "source": [
    "df.drop(['eshop','9', '10','11','12'], axis=1, inplace=True)"
   ]
  },
  {
   "cell_type": "code",
   "execution_count": 5,
   "metadata": {},
   "outputs": [
    {
     "data": {
      "text/plain": [
       "1921736"
      ]
     },
     "execution_count": 5,
     "metadata": {},
     "output_type": "execute_result"
    }
   ],
   "source": [
    "len(df)"
   ]
  },
  {
   "cell_type": "markdown",
   "metadata": {},
   "source": [
    "# Predspracovanie dát\n"
   ]
  },
  {
   "cell_type": "code",
   "execution_count": 6,
   "metadata": {},
   "outputs": [],
   "source": [
    "df['Referrer'].fillna(\"-\",inplace=True)"
   ]
  },
  {
   "cell_type": "code",
   "execution_count": 7,
   "metadata": {},
   "outputs": [],
   "source": [
    "# odstranenie navratovych kodov s hodnotamy 4xx, 5xx, 1xx\n",
    "df[\"ResponseCode\"]= df[\"ResponseCode\"].apply(str) \n",
    "delete = [\"1\", \"4\", \"5\"]\n",
    "df = df[~df[\"ResponseCode\"].str[:1].str.contains('|'.join(delete))]"
   ]
  },
  {
   "cell_type": "code",
   "execution_count": 8,
   "metadata": {},
   "outputs": [
    {
     "data": {
      "text/plain": [
       "1864359"
      ]
     },
     "execution_count": 8,
     "metadata": {},
     "output_type": "execute_result"
    }
   ],
   "source": [
    "len(df) # po odstraneni navratovych kodov"
   ]
  },
  {
   "cell_type": "code",
   "execution_count": 9,
   "metadata": {},
   "outputs": [],
   "source": [
    "#odstranenie poziadaviek na obrazky, styly atd.\n",
    "df[\"URL\"]= df[\"URL\"].apply(str) \n",
    "delete = [\"POST\", \"HEAD\",\".bmp\", \".jpg\", \".jpeg\", \".png\", \".gif\", \".JPG\", \".css\", \".flv\", \".ico\", \".swf\"\n",
    "                       , \".rss\", \".xml\", \".cur\", \".js\", \".json\", \".svg\", \".woff\", \".eot\"]\n",
    "df = df[~df[\"URL\"].str.contains('|'.join(delete))]"
   ]
  },
  {
   "cell_type": "code",
   "execution_count": 10,
   "metadata": {},
   "outputs": [
    {
     "data": {
      "text/plain": [
       "236605"
      ]
     },
     "execution_count": 10,
     "metadata": {},
     "output_type": "execute_result"
    }
   ],
   "source": [
    "len(df) # po odstraneni obrazkov stylov.."
   ]
  },
  {
   "cell_type": "markdown",
   "metadata": {},
   "source": [
    "### odstranenie robotov"
   ]
  },
  {
   "cell_type": "code",
   "execution_count": 11,
   "metadata": {},
   "outputs": [],
   "source": [
    "#odstranenie url adries ktore obsahuju navbar, cron\n",
    "for x in df['URL']:\n",
    "        if re.search(\"navbar\",x) or re.search(\"cron\",x):\n",
    "          df.drop(df.index[df['URL'] == x], inplace = True)"
   ]
  },
  {
   "cell_type": "code",
   "execution_count": 12,
   "metadata": {},
   "outputs": [],
   "source": [
    "#identifikacia ip robotov\n",
    "data=df[df['URL'].str.contains(\"robots.txt\")]\n",
    "roboty=pd.unique(data['IP'])"
   ]
  },
  {
   "cell_type": "code",
   "execution_count": 13,
   "metadata": {},
   "outputs": [
    {
     "data": {
      "text/plain": [
       "967"
      ]
     },
     "execution_count": 13,
     "metadata": {},
     "output_type": "execute_result"
    }
   ],
   "source": [
    "len(roboty) # ipcky robotov"
   ]
  },
  {
   "cell_type": "code",
   "execution_count": 15,
   "metadata": {},
   "outputs": [
    {
     "data": {
      "text/plain": [
       "191745"
      ]
     },
     "execution_count": 15,
     "metadata": {},
     "output_type": "execute_result"
    }
   ],
   "source": [
    "len(df) # po odstraneni navbar a cron"
   ]
  },
  {
   "cell_type": "code",
   "execution_count": 19,
   "metadata": {},
   "outputs": [],
   "source": [
    "#odstranenie ip robotov\n",
    "for x in df['IP']:\n",
    "    for y in roboty:\n",
    "        if x==y:\n",
    "            df.drop(df.index[df['IP'] == x], inplace = True)"
   ]
  },
  {
   "cell_type": "code",
   "execution_count": 20,
   "metadata": {},
   "outputs": [
    {
     "data": {
      "text/plain": [
       "146165"
      ]
     },
     "execution_count": 20,
     "metadata": {},
     "output_type": "execute_result"
    }
   ],
   "source": [
    "len(df)"
   ]
  },
  {
   "cell_type": "code",
   "execution_count": 22,
   "metadata": {},
   "outputs": [],
   "source": [
    "df['UserAgent']=df['UserAgent'].apply(str)\n",
    "for x in df['UserAgent']:\n",
    "    if re.search(\"bot\",x) or re.search(\"crawl\",x) or re.search(\"spider\",x):\n",
    "        df.drop(df.index[df['UserAgent'] == x], inplace = True)  \n"
   ]
  },
  {
   "cell_type": "code",
   "execution_count": 23,
   "metadata": {},
   "outputs": [
    {
     "data": {
      "text/plain": [
       "102070"
      ]
     },
     "execution_count": 23,
     "metadata": {},
     "output_type": "execute_result"
    }
   ],
   "source": [
    "len(df) # po odstraneni bot crawler, ip roboov"
   ]
  },
  {
   "cell_type": "markdown",
   "metadata": {},
   "source": [
    "## Čistenie od prístupov admina a ďalších nepotrebných prístupov"
   ]
  },
  {
   "cell_type": "code",
   "execution_count": 24,
   "metadata": {},
   "outputs": [],
   "source": [
    "#ip adminov\n",
    "df[\"URL\"]= df[\"URL\"].apply(str) \n",
    "data1=df[df['URL'].str.contains(\"admin\")]\n",
    "z=pd.unique(data1['IP'])"
   ]
  },
  {
   "cell_type": "code",
   "execution_count": 25,
   "metadata": {},
   "outputs": [
    {
     "data": {
      "text/plain": [
       "148"
      ]
     },
     "execution_count": 25,
     "metadata": {},
     "output_type": "execute_result"
    }
   ],
   "source": [
    "len(z)"
   ]
  },
  {
   "cell_type": "code",
   "execution_count": 29,
   "metadata": {},
   "outputs": [
    {
     "data": {
      "text/plain": [
       "3411"
      ]
     },
     "execution_count": 29,
     "metadata": {},
     "output_type": "execute_result"
    }
   ],
   "source": [
    "len(data1)"
   ]
  },
  {
   "cell_type": "code",
   "execution_count": 32,
   "metadata": {},
   "outputs": [
    {
     "data": {
      "text/html": [
       "<div>\n",
       "<style scoped>\n",
       "    .dataframe tbody tr th:only-of-type {\n",
       "        vertical-align: middle;\n",
       "    }\n",
       "\n",
       "    .dataframe tbody tr th {\n",
       "        vertical-align: top;\n",
       "    }\n",
       "\n",
       "    .dataframe thead th {\n",
       "        text-align: right;\n",
       "    }\n",
       "</style>\n",
       "<table border=\"1\" class=\"dataframe\">\n",
       "  <thead>\n",
       "    <tr style=\"text-align: right;\">\n",
       "      <th></th>\n",
       "      <th>IP</th>\n",
       "      <th>DateTime</th>\n",
       "      <th>URL</th>\n",
       "      <th>ResponseCode</th>\n",
       "      <th>Bytes</th>\n",
       "      <th>Referrer</th>\n",
       "      <th>UserAgent</th>\n",
       "    </tr>\n",
       "  </thead>\n",
       "  <tbody>\n",
       "    <tr>\n",
       "      <th>10</th>\n",
       "      <td>109.70.100.35</td>\n",
       "      <td>[30/Mar/2022:00:04:25+0200]</td>\n",
       "      <td>GET/myaccount/HTTP/2.0</td>\n",
       "      <td>200.0</td>\n",
       "      <td>17628.0</td>\n",
       "      <td>-</td>\n",
       "      <td>Mozilla/5.0 (Windows NT 10.0; Win64; x64) Appl...</td>\n",
       "    </tr>\n",
       "    <tr>\n",
       "      <th>77</th>\n",
       "      <td>109.70.100.35</td>\n",
       "      <td>[30/Mar/2022:00:05:05+0200]</td>\n",
       "      <td>GET/myaccount/HTTP/2.0</td>\n",
       "      <td>200.0</td>\n",
       "      <td>17627.0</td>\n",
       "      <td>-</td>\n",
       "      <td>Mozilla/5.0 (Windows NT 10.0; Win64; x64) Appl...</td>\n",
       "    </tr>\n",
       "    <tr>\n",
       "      <th>83</th>\n",
       "      <td>185.61.222.181</td>\n",
       "      <td>[30/Mar/2022:00:06:17+0200]</td>\n",
       "      <td>GET/faq/HTTP/1.1</td>\n",
       "      <td>200.0</td>\n",
       "      <td>21347.0</td>\n",
       "      <td>https://your20th.com/</td>\n",
       "      <td>Mozilla/5.0 (Macintosh; Intel Mac OS X 10_11_5...</td>\n",
       "    </tr>\n",
       "    <tr>\n",
       "      <th>90</th>\n",
       "      <td>194.104.11.194</td>\n",
       "      <td>[30/Mar/2022:00:07:32+0200]</td>\n",
       "      <td>GET/faq/HTTP/1.1</td>\n",
       "      <td>200.0</td>\n",
       "      <td>21349.0</td>\n",
       "      <td>https://your20th.com/</td>\n",
       "      <td>Mozilla/5.0 (Macintosh; Intel Mac OS X 10_11_5...</td>\n",
       "    </tr>\n",
       "    <tr>\n",
       "      <th>135</th>\n",
       "      <td>45.148.233.140</td>\n",
       "      <td>[30/Mar/2022:00:18:36+0200]</td>\n",
       "      <td>GET/faq/HTTP/1.1</td>\n",
       "      <td>200.0</td>\n",
       "      <td>21349.0</td>\n",
       "      <td>https://your20th.com/</td>\n",
       "      <td>Mozilla/5.0 (Macintosh; Intel Mac OS X 10_11_5...</td>\n",
       "    </tr>\n",
       "    <tr>\n",
       "      <th>...</th>\n",
       "      <td>...</td>\n",
       "      <td>...</td>\n",
       "      <td>...</td>\n",
       "      <td>...</td>\n",
       "      <td>...</td>\n",
       "      <td>...</td>\n",
       "      <td>...</td>\n",
       "    </tr>\n",
       "    <tr>\n",
       "      <th>1921687</th>\n",
       "      <td>46.161.11.103</td>\n",
       "      <td>[04/Apr/2022:22:47:53+0200]</td>\n",
       "      <td>GET/shop/spaceagecopperhangingchandeliergerman...</td>\n",
       "      <td>302.0</td>\n",
       "      <td>260.0</td>\n",
       "      <td>http://your20th.com/shop/spaceagecopperhanging...</td>\n",
       "      <td>Mozilla/5.0 (Windows NT 6.3; Win64; x64) Apple...</td>\n",
       "    </tr>\n",
       "    <tr>\n",
       "      <th>1921689</th>\n",
       "      <td>46.161.11.103</td>\n",
       "      <td>[04/Apr/2022:22:47:55+0200]</td>\n",
       "      <td>GET/shop/spaceagecopperhangingchandeliergerman...</td>\n",
       "      <td>200.0</td>\n",
       "      <td>166314.0</td>\n",
       "      <td>https://your20th.com/shop/spaceagecopperhangin...</td>\n",
       "      <td>Mozilla/5.0 (Windows NT 6.3; Win64; x64) Apple...</td>\n",
       "    </tr>\n",
       "    <tr>\n",
       "      <th>1921706</th>\n",
       "      <td>198.12.122.116</td>\n",
       "      <td>[04/Apr/2022:22:53:48+0200]</td>\n",
       "      <td>GET/HTTP/1.0</td>\n",
       "      <td>302.0</td>\n",
       "      <td>205.0</td>\n",
       "      <td>http://your20th.com/</td>\n",
       "      <td>Mozilla/5.0 (Macintosh; Intel Mac OS X 10_12_2...</td>\n",
       "    </tr>\n",
       "    <tr>\n",
       "      <th>1921707</th>\n",
       "      <td>198.12.122.116</td>\n",
       "      <td>[04/Apr/2022:22:53:51+0200]</td>\n",
       "      <td>GET/HTTP/1.0</td>\n",
       "      <td>200.0</td>\n",
       "      <td>188507.0</td>\n",
       "      <td>http://your20th.com/</td>\n",
       "      <td>Mozilla/5.0 (Macintosh; Intel Mac OS X 10_12_2...</td>\n",
       "    </tr>\n",
       "    <tr>\n",
       "      <th>1921735</th>\n",
       "      <td>NaN</td>\n",
       "      <td>NaN</td>\n",
       "      <td>nan</td>\n",
       "      <td>nan</td>\n",
       "      <td>NaN</td>\n",
       "      <td>-</td>\n",
       "      <td>nan</td>\n",
       "    </tr>\n",
       "  </tbody>\n",
       "</table>\n",
       "<p>98659 rows × 7 columns</p>\n",
       "</div>"
      ],
      "text/plain": [
       "                     IP                     DateTime  \\\n",
       "10        109.70.100.35  [30/Mar/2022:00:04:25+0200]   \n",
       "77        109.70.100.35  [30/Mar/2022:00:05:05+0200]   \n",
       "83       185.61.222.181  [30/Mar/2022:00:06:17+0200]   \n",
       "90       194.104.11.194  [30/Mar/2022:00:07:32+0200]   \n",
       "135      45.148.233.140  [30/Mar/2022:00:18:36+0200]   \n",
       "...                 ...                          ...   \n",
       "1921687   46.161.11.103  [04/Apr/2022:22:47:53+0200]   \n",
       "1921689   46.161.11.103  [04/Apr/2022:22:47:55+0200]   \n",
       "1921706  198.12.122.116  [04/Apr/2022:22:53:48+0200]   \n",
       "1921707  198.12.122.116  [04/Apr/2022:22:53:51+0200]   \n",
       "1921735             NaN                          NaN   \n",
       "\n",
       "                                                       URL ResponseCode  \\\n",
       "10                                  GET/myaccount/HTTP/2.0        200.0   \n",
       "77                                  GET/myaccount/HTTP/2.0        200.0   \n",
       "83                                        GET/faq/HTTP/1.1        200.0   \n",
       "90                                        GET/faq/HTTP/1.1        200.0   \n",
       "135                                       GET/faq/HTTP/1.1        200.0   \n",
       "...                                                    ...          ...   \n",
       "1921687  GET/shop/spaceagecopperhangingchandeliergerman...        302.0   \n",
       "1921689  GET/shop/spaceagecopperhangingchandeliergerman...        200.0   \n",
       "1921706                                       GET/HTTP/1.0        302.0   \n",
       "1921707                                       GET/HTTP/1.0        200.0   \n",
       "1921735                                                nan          nan   \n",
       "\n",
       "            Bytes                                           Referrer  \\\n",
       "10        17628.0                                                  -   \n",
       "77        17627.0                                                  -   \n",
       "83        21347.0                              https://your20th.com/   \n",
       "90        21349.0                              https://your20th.com/   \n",
       "135       21349.0                              https://your20th.com/   \n",
       "...           ...                                                ...   \n",
       "1921687     260.0  http://your20th.com/shop/spaceagecopperhanging...   \n",
       "1921689  166314.0  https://your20th.com/shop/spaceagecopperhangin...   \n",
       "1921706     205.0                               http://your20th.com/   \n",
       "1921707  188507.0                               http://your20th.com/   \n",
       "1921735       NaN                                                  -   \n",
       "\n",
       "                                                 UserAgent  \n",
       "10       Mozilla/5.0 (Windows NT 10.0; Win64; x64) Appl...  \n",
       "77       Mozilla/5.0 (Windows NT 10.0; Win64; x64) Appl...  \n",
       "83       Mozilla/5.0 (Macintosh; Intel Mac OS X 10_11_5...  \n",
       "90       Mozilla/5.0 (Macintosh; Intel Mac OS X 10_11_5...  \n",
       "135      Mozilla/5.0 (Macintosh; Intel Mac OS X 10_11_5...  \n",
       "...                                                    ...  \n",
       "1921687  Mozilla/5.0 (Windows NT 6.3; Win64; x64) Apple...  \n",
       "1921689  Mozilla/5.0 (Windows NT 6.3; Win64; x64) Apple...  \n",
       "1921706  Mozilla/5.0 (Macintosh; Intel Mac OS X 10_12_2...  \n",
       "1921707  Mozilla/5.0 (Macintosh; Intel Mac OS X 10_12_2...  \n",
       "1921735                                                nan  \n",
       "\n",
       "[98659 rows x 7 columns]"
      ]
     },
     "execution_count": 32,
     "metadata": {},
     "output_type": "execute_result"
    }
   ],
   "source": [
    "df[~df['URL'].str.contains(\"admin\")]"
   ]
  },
  {
   "cell_type": "code",
   "execution_count": 39,
   "metadata": {},
   "outputs": [
    {
     "name": "stderr",
     "output_type": "stream",
     "text": [
      "C:\\Users\\kalin\\anaconda3\\lib\\site-packages\\pandas\\core\\frame.py:4163: SettingWithCopyWarning: \n",
      "A value is trying to be set on a copy of a slice from a DataFrame\n",
      "\n",
      "See the caveats in the documentation: https://pandas.pydata.org/pandas-docs/stable/user_guide/indexing.html#returning-a-view-versus-a-copy\n",
      "  return super().drop(\n"
     ]
    }
   ],
   "source": [
    "for x in df['URL']:\n",
    "    if re.search(\"admin\",x) :\n",
    "        df.drop(df.index[df['URL'] == x], inplace = True)  "
   ]
  },
  {
   "cell_type": "code",
   "execution_count": 40,
   "metadata": {},
   "outputs": [
    {
     "data": {
      "text/plain": [
       "67035"
      ]
     },
     "execution_count": 40,
     "metadata": {},
     "output_type": "execute_result"
    }
   ],
   "source": [
    "len(df) #po odstraneni admin"
   ]
  },
  {
   "cell_type": "code",
   "execution_count": 41,
   "metadata": {},
   "outputs": [],
   "source": [
    "#odstranenie ip adminov\n",
    "for x in df['IP']:\n",
    "    for y in z:\n",
    "        if x==y:\n",
    "            df.drop(df.index[df['IP'] == x], inplace = True)"
   ]
  },
  {
   "cell_type": "code",
   "execution_count": 42,
   "metadata": {},
   "outputs": [
    {
     "data": {
      "text/plain": [
       "63190"
      ]
     },
     "execution_count": 42,
     "metadata": {},
     "output_type": "execute_result"
    }
   ],
   "source": [
    "len(df)  #po odstraneni adminov"
   ]
  },
  {
   "cell_type": "code",
   "execution_count": 52,
   "metadata": {},
   "outputs": [],
   "source": [
    "#odstranenie nechcenych poziadaviek wp\n",
    "df[\"URL\"]= df[\"URL\"].apply(str) \n",
    "deleterows = [\"GET/HTTP/\", \"GET/test\", \"GET//\",\"env\",\"wordpress\", \"ftp\",\"backup\", \"GET/1\",\"GET/2\",\"GET/3\" \"wpcontent\",\n",
    "              \"GET/.hg\", \"GET/.http\", \"GET/wpincludes\", \"wpconfig\", \"cgi\", \"GET/cms\", \"cindex\",\"wpload\", \"edito\", \"GET/wp/\", \"GET/web/\", \"GET/wp_\", \"fbcl\", \"gcli\", \"GET/wso\", \"GET/wpi\", \"GET/XxX\"]\n",
    "df = df[~df[\"URL\"].str.contains('|'.join(deleterows))]"
   ]
  },
  {
   "cell_type": "code",
   "execution_count": 53,
   "metadata": {},
   "outputs": [
    {
     "data": {
      "text/plain": [
       "63157"
      ]
     },
     "execution_count": 53,
     "metadata": {},
     "output_type": "execute_result"
    }
   ],
   "source": [
    "len(df)"
   ]
  },
  {
   "cell_type": "code",
   "execution_count": 54,
   "metadata": {},
   "outputs": [],
   "source": [
    "df.to_excel(r'cistenie.xlsx', sheet_name = 'main', index=None)"
   ]
  },
  {
   "cell_type": "code",
   "execution_count": null,
   "metadata": {},
   "outputs": [],
   "source": [
    "#rucne cistenie dalsich najdenych nepotrebnych pristupov v exceli"
   ]
  },
  {
   "cell_type": "code",
   "execution_count": 55,
   "metadata": {},
   "outputs": [],
   "source": [
    "df= df.sort_values(['IP','UserAgent','DateTime'], ascending=True)"
   ]
  },
  {
   "cell_type": "code",
   "execution_count": 59,
   "metadata": {},
   "outputs": [
    {
     "name": "stderr",
     "output_type": "stream",
     "text": [
      "C:\\Users\\kalin\\anaconda3\\lib\\site-packages\\xlsxwriter\\worksheet.py:941: UserWarning: Ignoring URL 'https://your20th.com/jindrichhalabalagreatmanoftheeuropeanandworldfurnituredesign/index.php?action=sc_chat_ajax_callback&f_chat_user_name=Eric+Jones&f_chat_user_email=eric.jones.z.mail%40gmail.com&f_chat_user_question=Hi%2C+my+name+is+Eric+and+I%E2%80%99m+betting+you%E2%80%99d+like+your+website+your20th.com+to+generate+more+leads.%0D%0A%0D%0AHere%E2%80%99s+how:%0D%0ATalk+With+Web+Visitor+is+a+software+widget+that%E2%80%99s+works+on+your+site%2C+ready+to+capture+any+visitor%E2%80%99s+Name%2C+Email+address+and+Phone+Number.++It+signals+you+as+soon+as+they+say+they%E2%80%99re+interested+%E2%80%93+so+that+you+can+talk+to+that+lead+while+they%E2%80%99re+still+there+at+your20th.com.%0D%0A%0D%0ATalk+With+Web+Visitor+%E2%80%93+CLICK+HERE+https://jumboleadmagnet.com+for+a+live+demo+now.%0D%0A%0D%0AAnd+now+that+you%E2%80%99ve+got+their+phone+number%2C+our+new+SMS+Text+With+Lead+feature+enables+you+to+start+a+text+(SMS)+conversation+%E2%80%93+answer+questions%2C+provide+more+info%2C+and+close+a+deal+that+way.%0D%0A%0D%0AIf+they+don%E2%80%99t+take+you+up+on+your+offer+then%2C+just+follow+up+with+text+messages+for+new+offers%2C+content+links%2C+even+just+%E2%80%9Chow+you+doing%3F%E2%80%9D+notes+to+build+a+relationship.%0D%0A%0D%0ACLICK+HERE+https://jumboleadmagnet.com+to+discover+what+Talk+With+Web+Visitor+can+do+for+your+business.%0D%0A%0D%0AThe+difference+between+contacting+someone+within+5+minutes+versus+a+halfhour+means+you+could+be+converting+up+to+100X+more+leads+today%21%0D%0A%0D%0ATry+Talk+With+Web+Visitor+and+get+more+leads+now.%0D%0A%0D%0AEric%0D%0APS:+The+studies+show+7+out+of+10+visitors+don%E2%80%99t+hang+around+%E2%80%93+you+can%E2%80%99t+afford+to+lose+them%21%0D%0ATalk+With+Web+Visitor+offers+a+FREE+14+days+trial+%E2%80%93+and+it+even+includes+International+Long+Distance+Calling.+%0D%0AYou+have+customers+waiting+to+talk+with+you+right+now%E2%80%A6+don%E2%80%99t+keep+them+waiting.+%0D%0ACLICK+HERE+https://jumboleadmagnet.com+to+try+Talk+With+Web+Visitor+now.%0D%0A%0D%0AIf+you%27d+like+to+unsubscribe+click+here+http://jumboleadmagnet.com/unsubscribe.aspx%3Fd%3Dyour20th.com%0D%0A' with link or location/anchor > 2079 characters since it exceeds Excel's limit for URLS\n",
      "  warn(\"Ignoring URL '%s' with link or location/anchor > %d \"\n",
      "C:\\Users\\kalin\\anaconda3\\lib\\site-packages\\xlsxwriter\\worksheet.py:941: UserWarning: Ignoring URL 'https://your20th.com/jindrichhalabalagreatmanoftheeuropeanandworldfurnituredesign/index.php?action=sc_chat_ajax_callback&f_chat_user_name=Eric+Jones&f_chat_user_email=eric.jones.z.mail%40gmail.com&f_chat_user_question=My+name%E2%80%99s+Eric+and+I+just+came+across+your+website++your20th.com++in+the+search+results.%0D%0A%0D%0AHere%E2%80%99s+what+that+means+to+me%E2%80%A6%0D%0A%0D%0AYour+SEO%E2%80%99s+working.%0D%0A%0D%0AYou%E2%80%99re+getting+eyeballs+%E2%80%93+mine+at+least.%0D%0A%0D%0AYour+content%E2%80%99s+pretty+good%2C+wouldn%E2%80%99t+change+a+thing.%0D%0A%0D%0ABUT%E2%80%A6%0D%0A%0D%0AEyeballs+don%E2%80%99t+pay+the+bills.%0D%0A%0D%0ACUSTOMERS+do.%0D%0A%0D%0AAnd+studies+show+that+7+out+of+10+visitors+to+a+site+like+your20th.com+will+drop+by%2C+take+a+gander%2C+and+then+head+for+the+hills+without+doing+anything+else.%0D%0A%0D%0AIt%E2%80%99s+like+they+never+were+even+there.%0D%0A%0D%0AYou+can+fix+this.%0D%0A%0D%0AYou+can+make+it+supersimple+for+them+to+raise+their+hand%2C+say%2C+%E2%80%9Cokay%2C+let%E2%80%99s+talk%E2%80%9D+without+requiring+them+to+even+pull+their+cell+phone+from+their+pocket%E2%80%A6+thanks+to+Talk+With+Web+Visitor.%0D%0A%0D%0ATalk+With+Web+Visitor+is+a+software+widget+that+sits+on+your+site%2C+ready+and+waiting+to+capture+any+visitor%E2%80%99s+Name%2C+Email+address+and+Phone+Number.++It+lets+you+know+immediately+%E2%80%93+so+you+can+talk+to+that+lead+immediately%E2%80%A6+without+delay%E2%80%A6+BEFORE+they+head+for+those+hills.%0D%0A++%0D%0ACLICK+HERE+http://jumboleadmagnet.com+to+try+out+a+Live+Demo+with+Talk+With+Web+Visitor+now+to+see+exactly+how+it+works.%0D%0A%0D%0ANow+it%E2%80%99s+also+true+that+when+reaching+out+to+hot+leads%2C+you+MUST+act+fast+%E2%80%93+the+difference+between+contacting+someone+within+5+minutes+versus+30+minutes+later+is+huge+%E2%80%93+like+100+times+better%21%0D%0A%0D%0AThat%E2%80%99s+what+makes+our+new+SMS+Text+With+Lead+feature+so+powerful%E2%80%A6+you%E2%80%99ve+got+their+phone+number%2C+so+now+you+can+start+a+text+message+(SMS)+conversation+with+them%E2%80%A6+so+even+if+they+don%E2%80%99t+take+you+up+on+your+offer+right+away%2C+you+continue+to+text+them+new+offers%2C+new+content%2C+and+new+reasons+to+do+business+with+you.%0D%0A%0D%0AThis+could+change+everything+for+you+and+your+business.%0D%0A%0D%0ACLICK+HERE+http://jumboleadmagnet.com+to+learn+more+about+everything+Talk+With+Web+Visitor+can+do+and+start+turing+eyeballs+into+money.%0D%0A%0D%0AEric%0D%0APS:+Talk+With+Web+Visitor+offers+a+FREE+14+days+trial+%E2%80%93+you+could+be+converting+up+to+100x+more+leads+immediately%21+++%0D%0AIt+even+includes+International+Long+Distance+Calling.+%0D%0APaying+customers+are+out+there+waiting.+%0D%0AStarting+connecting+today+by+CLICKING+HERE+http://jumboleadmagnet.com+to+try+Talk+With+Web+Visitor+now.%0D%0A%0D%0AIf+you%27d+like+to+unsubscribe+click+here+http://jumboleadmagnet.com/unsubscribe.aspx%3Fd%3Dyour20th.com%0D%0A' with link or location/anchor > 2079 characters since it exceeds Excel's limit for URLS\n",
      "  warn(\"Ignoring URL '%s' with link or location/anchor > %d \"\n",
      "C:\\Users\\kalin\\anaconda3\\lib\\site-packages\\xlsxwriter\\worksheet.py:941: UserWarning: Ignoring URL 'https://your20th.com/jindrichhalabalagreatmanoftheeuropeanandworldfurnituredesign/index.php?action=sc_chat_ajax_callback&f_chat_user_name=Eric+Jones&f_chat_user_email=eric.jones.z.mail%40gmail.com&f_chat_user_question=Hey%2C+this+is+Eric+and+I+ran+across+your20th.com+a+few+minutes+ago.%0D%0A%0D%0ALooks+great%E2%80%A6+but+now+what%3F%0D%0A%0D%0ABy+that+I+mean%2C+when+someone+like+me+finds+your+website+%E2%80%93+either+through+Search+or+just+bouncing+around+%E2%80%93+what+happens+next%3F++Do+you+get+a+lot+of+leads+from+your+site%2C+or+at+least+enough+to+make+you+happy%3F%0D%0A%0D%0AHonestly%2C+most+business+websites+fall+a+bit+short+when+it+comes+to+generating+paying+customers.+Studies+show+that+70%25+of+a+site%E2%80%99s+visitors+disappear+and+are+gone+forever+after+just+a+moment.%0D%0A%0D%0AHere%E2%80%99s+an+idea%E2%80%A6%0D%0A+%0D%0AHow+about+making+it+really+EASY+for+every+visitor+who+shows+up+to+get+a+personal+phone+call+you+as+soon+as+they+hit+your+site%E2%80%A6%0D%0A+%0D%0AYou+can+%E2%80%93%0D%0A++%0D%0ATalk+With+Web+Visitor+is+a+software+widget+that%E2%80%99s+works+on+your+site%2C+ready+to+capture+any+visitor%E2%80%99s+Name%2C+Email+address+and+Phone+Number.++It+signals+you+the+moment+they+let+you+know+they%E2%80%99re+interested+%E2%80%93+so+that+you+can+talk+to+that+lead+while+they%E2%80%99re+literally+looking+over+your+site.%0D%0A%0D%0ACLICK+HERE+http://jumboleadmagnet.com+to+try+out+a+Live+Demo+with+Talk+With+Web+Visitor+now+to+see+exactly+how+it+works.%0D%0A%0D%0AYou%E2%80%99ll+be+amazed++the+difference+between+contacting+someone+within+5+minutes+versus+a+halfhour+or+more+later+could+increase+your+results+100fold.%0D%0A%0D%0AIt+gets+even+better%E2%80%A6+once+you%E2%80%99ve+captured+their+phone+number%2C+with+our+new+SMS+Text+With+Lead+feature%2C+you+can+automatically+start+a+text+(SMS)+conversation.%0D%0A++%0D%0AThat+way%2C+even+if+you+don%E2%80%99t+close+a+deal+right+away%2C+you+can+follow+up+with+text+messages+for+new+offers%2C+content+links%2C+even+just+%E2%80%9Chow+you+doing%3F%E2%80%9D+notes+to+build+a+relationship.%0D%0A%0D%0APretty+sweet+%E2%80%93+AND+effective.%0D%0A%0D%0ACLICK+HERE+http://jumboleadmagnet.com+to+discover+what+Talk+With+Web+Visitor+can+do+for+your+business.%0D%0A%0D%0AYou+could+be+converting+up+to+100X+more+leads+today%21%0D%0A%0D%0AEric%0D%0APS:+Talk+With+Web+Visitor+offers+a+FREE+14+days+trial+%E2%80%93+and+it+even+includes+International+Long+Distance+Calling.+%0D%0AYou+have+customers+waiting+to+talk+with+you+right+now%E2%80%A6+don%E2%80%99t+keep+them+waiting.+%0D%0ACLICK+HERE+http://jumboleadmagnet.com+to+try+Talk+With+Web+Visitor+now.%0D%0A%0D%0AIf+you%27d+like+to+unsubscribe+click+here+http://jumboleadmagnet.com/unsubscribe.aspx%3Fd%3Dyour20th.com%0D%0A' with link or location/anchor > 2079 characters since it exceeds Excel's limit for URLS\n",
      "  warn(\"Ignoring URL '%s' with link or location/anchor > %d \"\n",
      "C:\\Users\\kalin\\anaconda3\\lib\\site-packages\\xlsxwriter\\worksheet.py:941: UserWarning: Ignoring URL 'https://your20th.com/jindrichhalabalagreatmanoftheeuropeanandworldfurnituredesign/index.php?action=sc_chat_ajax_callback&f_chat_user_name=Eric+Jones&f_chat_user_email=eric.jones.z.mail%40gmail.com&f_chat_user_question=Hello%2C+my+name%E2%80%99s+Eric+and+I+just+ran+across+your+website+at+your20th.com...%0D%0A%0D%0AI+found+it+after+a+quick+search%2C+so+your+SEO%E2%80%99s+working+out%E2%80%A6%0D%0A%0D%0AContent+looks+pretty+good%E2%80%A6%0D%0A%0D%0AOne+thing%E2%80%99s+missing+though%E2%80%A6%0D%0A%0D%0AA+QUICK%2C+EASY+way+to+connect+with+you+NOW.%0D%0A%0D%0ABecause+studies+show+that+a+web+lead+like+me+will+only+hang+out+a+few+seconds+%E2%80%93+7+out+of+10+disappear+almost+instantly%2C+Surf+Surf+Surf%E2%80%A6+then+gone+forever.%0D%0A%0D%0AI+have+the+solution:%0D%0A%0D%0ATalk+With+Web+Visitor+is+a+software+widget+that%E2%80%99s+works+on+your+site%2C+ready+to+capture+any+visitor%E2%80%99s+Name%2C+Email+address+and+Phone+Number.++You%E2%80%99ll+know+immediately+they%E2%80%99re+interested+and+you+can+call+them+directly+to+TALK+with+them++literally+while+they%E2%80%99re+still+on+the+web+looking+at+your+site.%0D%0A%0D%0ACLICK+HERE+http://talkwithwebtraffic.com+to+try+out+a+Live+Demo+with+Talk+With+Web+Visitor+now+to+see+exactly+how+it+works+and+even+give+it+a+try%E2%80%A6+it+could+be+huge+for+your+business.%0D%0A%0D%0APlus%2C+now+that+you%E2%80%99ve+got+that+phone+number%2C+with+our+new+SMS+Text+With+Lead+feature%2C+you+can+automatically+start+a+text+(SMS)+conversation+pronto%E2%80%A6+which+is+so+powerful%2C+because+connecting+with+someone+within+the+first+5+minutes+is+100+times+more+effective+than+waiting+30+minutes+or+more+later.%0D%0A%0D%0AThe+new+text+messaging+feature+lets+you+follow+up+regularly+with+new+offers%2C+content+links%2C+even+just+follow+up+notes+to+build+a+relationship.%0D%0A%0D%0AEverything+I%E2%80%99ve+just+described+is+extremely+simple+to+implement%2C+costeffective%2C+and+profitable.%0D%0A+%0D%0ACLICK+HERE+http://talkwithwebtraffic.com+to+discover+what+Talk+With+Web+Visitor+can+do+for+your+business%2C+potentially+converting+up+to+100X+more+eyeballs+into+leads+today%21%0D%0A%0D%0AEric%0D%0APS:+Talk+With+Web+Visitor+offers+a+FREE+14+days+trial+%E2%80%93+and+it+even+includes+International+Long+Distance+Calling.+%0D%0AYou+have+customers+waiting+to+talk+with+you+right+now%E2%80%A6+don%E2%80%99t+keep+them+waiting.+%0D%0ACLICK+HERE+http://talkwithwebtraffic.com+to+try+Talk+With+Web+Visitor+now.%0D%0A%0D%0AIf+you%27d+like+to+unsubscribe+click+here+http://talkwithwebtraffic.com/unsubscribe.aspx%3Fd%3Dyour20th.com%0D%0A' with link or location/anchor > 2079 characters since it exceeds Excel's limit for URLS\n",
      "  warn(\"Ignoring URL '%s' with link or location/anchor > %d \"\n",
      "C:\\Users\\kalin\\anaconda3\\lib\\site-packages\\xlsxwriter\\worksheet.py:941: UserWarning: Ignoring URL 'https://your20th.com/jindrichhalabalagreatmanoftheeuropeanandworldfurnituredesign/index.php?action=sc_chat_ajax_callback&f_chat_user_name=Eric+Jones&f_chat_user_email=eric.jones.z.mail%40gmail.com&f_chat_user_question=Hey%2C+my+name%E2%80%99s+Eric+and+for+just+a+second%2C+imagine+this%E2%80%A6%0D%0A%0D%0A+Someone+does+a+search+and+winds+up+at+your20th.com.%0D%0A%0D%0A+They+hang+out+for+a+minute+to+check+it+out.++%E2%80%9CI%E2%80%99m+interested%E2%80%A6+but%E2%80%A6+maybe%E2%80%A6%E2%80%9D%0D%0A%0D%0A+And+then+they+hit+the+back+button+and+check+out+the+other+search+results+instead.+%0D%0A%0D%0A+Bottom+line+%E2%80%93+you+got+an+eyeball%2C+but+nothing+else+to+show+for+it.%0D%0A%0D%0A+There+they+go.%0D%0A%0D%0AThis+isn%E2%80%99t+really+your+fault+%E2%80%93+it+happens+a+LOT+%E2%80%93+studies+show+7+out+of+10+visitors+to+any+site+disappear+without+leaving+a+trace.%0D%0A%0D%0ABut+you+CAN+fix+that.%0D%0A%0D%0ATalk+With+Web+Visitor+is+a+software+widget+that%E2%80%99s+works+on+your+site%2C+ready+to+capture+any+visitor%E2%80%99s+Name%2C+Email+address+and+Phone+Number.++It+lets+you+know+right+then+and+there+%E2%80%93+enabling+you+to+call+that+lead+while+they%E2%80%99re+literally+looking+over+your+site.%0D%0A%0D%0ACLICK+HERE+http://jumboleadmagnet.com+to+try+out+a+Live+Demo+with+Talk+With+Web+Visitor+now+to+see+exactly+how+it+works.%0D%0A%0D%0ATime+is+money+when+it+comes+to+connecting+with+leads+%E2%80%93+the+difference+between+contacting+someone+within+5+minutes+versus+30+minutes+later+can+be+huge+%E2%80%93+like+100+times+better%21%0D%0A%0D%0APlus%2C+now+that+you+have+their+phone+number%2C+with+our+new+SMS+Text+With+Lead+feature+you+can+automatically+start+a+text+(SMS)+conversation%E2%80%A6+so+even+if+you+don%E2%80%99t+close+a+deal+then%2C+you+can+follow+up+with+text+messages+for+new+offers%2C+content+links%2C+even+just+%E2%80%9Chow+you+doing%3F%E2%80%9D+notes+to+build+a+relationship.%0D%0A%0D%0AStrong+stuff.%0D%0A%0D%0ACLICK+HERE+http://jumboleadmagnet.com+to+discover+what+Talk+With+Web+Visitor+can+do+for+your+business.%0D%0A%0D%0AYou+could+be+converting+up+to+100X+more+leads+today%21%0D%0A%0D%0AEric%0D%0APS:+Talk+With+Web+Visitor+offers+a+FREE+14+days+trial+%E2%80%93+and+it+even+includes+International+Long+Distance+Calling.+%0D%0AYou+have+customers+waiting+to+talk+with+you+right+now%E2%80%A6+don%E2%80%99t+keep+them+waiting.+%0D%0ACLICK+HERE+http://jumboleadmagnet.com+to+try+Talk+With+Web+Visitor+now.%0D%0A%0D%0AIf+you%27d+like+to+unsubscribe+click+here+http://jumboleadmagnet.com/unsubscribe.aspx%3Fd%3Dyour20th.com%0D%0A' with link or location/anchor > 2079 characters since it exceeds Excel's limit for URLS\n",
      "  warn(\"Ignoring URL '%s' with link or location/anchor > %d \"\n"
     ]
    }
   ],
   "source": [
    "df.to_excel(r'cistenie.xlsx', sheet_name = 'main', index=None)"
   ]
  },
  {
   "cell_type": "markdown",
   "metadata": {},
   "source": [
    "# UNIXTIME\n"
   ]
  },
  {
   "cell_type": "code",
   "execution_count": 94,
   "metadata": {},
   "outputs": [],
   "source": [
    "df1 = pd.read_excel(\"cistenie.xlsx\")"
   ]
  },
  {
   "cell_type": "code",
   "execution_count": 95,
   "metadata": {},
   "outputs": [],
   "source": [
    "import time\n",
    "import datetime"
   ]
  },
  {
   "cell_type": "code",
   "execution_count": 96,
   "metadata": {},
   "outputs": [],
   "source": [
    "df1[\"Unixtime\"]= \"\""
   ]
  },
  {
   "cell_type": "code",
   "execution_count": null,
   "metadata": {},
   "outputs": [],
   "source": [
    "i=0\n",
    "for x in df1[\"DateTime\"]:\n",
    "        df1.iloc[i, 7]= datetime.datetime(int(x[6:10]),int(x[3:5]),int(x[0:2]),int(x[11:13]),int(x[14:16]),int(x[17:19])).timestamp()\n",
    "        i=i+1\n",
    "\n",
    " "
   ]
  },
  {
   "cell_type": "code",
   "execution_count": 99,
   "metadata": {
    "scrolled": true
   },
   "outputs": [
    {
     "data": {
      "text/html": [
       "<div>\n",
       "<style scoped>\n",
       "    .dataframe tbody tr th:only-of-type {\n",
       "        vertical-align: middle;\n",
       "    }\n",
       "\n",
       "    .dataframe tbody tr th {\n",
       "        vertical-align: top;\n",
       "    }\n",
       "\n",
       "    .dataframe thead th {\n",
       "        text-align: right;\n",
       "    }\n",
       "</style>\n",
       "<table border=\"1\" class=\"dataframe\">\n",
       "  <thead>\n",
       "    <tr style=\"text-align: right;\">\n",
       "      <th></th>\n",
       "      <th>IP</th>\n",
       "      <th>DateTime</th>\n",
       "      <th>URL</th>\n",
       "      <th>ResponseCode</th>\n",
       "      <th>Bytes</th>\n",
       "      <th>Referrer</th>\n",
       "      <th>UserAgent</th>\n",
       "      <th>Unixtime</th>\n",
       "    </tr>\n",
       "  </thead>\n",
       "  <tbody>\n",
       "    <tr>\n",
       "      <th>0</th>\n",
       "      <td>1.10.194.157</td>\n",
       "      <td>02/02/2022 23:24:00+0100</td>\n",
       "      <td>GET/myaccount/HTTP/1.1</td>\n",
       "      <td>200.0</td>\n",
       "      <td>18093.0</td>\n",
       "      <td>https://your20th.com/</td>\n",
       "      <td>Mozilla/5.0 (X11; Linux x86_64; rv:56.0) Gecko...</td>\n",
       "      <td>1.64384e+09</td>\n",
       "    </tr>\n",
       "    <tr>\n",
       "      <th>1</th>\n",
       "      <td>1.120.202.188</td>\n",
       "      <td>30/01/2022 07:51:12+0100</td>\n",
       "      <td>GET/shop/sofabiedermeiercirca1835europe/HTTP/2.0</td>\n",
       "      <td>200.0</td>\n",
       "      <td>24140.0</td>\n",
       "      <td>https://www.google.com/</td>\n",
       "      <td>Mozilla/5.0 (iPhone; CPU iPhone OS 15_1 like M...</td>\n",
       "      <td>1.64353e+09</td>\n",
       "    </tr>\n",
       "    <tr>\n",
       "      <th>2</th>\n",
       "      <td>1.127.21.42</td>\n",
       "      <td>19/12/2021 05:48:45+0100</td>\n",
       "      <td>GET/producttag/german/HTTP/2.0</td>\n",
       "      <td>200.0</td>\n",
       "      <td>23801.0</td>\n",
       "      <td>https://www.google.com.au/</td>\n",
       "      <td>Mozilla/5.0 (iPhone; CPU iPhone OS 15_1_1 like...</td>\n",
       "      <td>1.63989e+09</td>\n",
       "    </tr>\n",
       "    <tr>\n",
       "      <th>3</th>\n",
       "      <td>1.127.21.42</td>\n",
       "      <td>19/12/2021 05:49:11+0100</td>\n",
       "      <td>GET/shop/HTTP/2.0</td>\n",
       "      <td>200.0</td>\n",
       "      <td>26846.0</td>\n",
       "      <td>https://your20th.com/producttag/german/</td>\n",
       "      <td>Mozilla/5.0 (iPhone; CPU iPhone OS 15_1_1 like...</td>\n",
       "      <td>1.63989e+09</td>\n",
       "    </tr>\n",
       "    <tr>\n",
       "      <th>4</th>\n",
       "      <td>1.127.21.42</td>\n",
       "      <td>19/12/2021 05:49:33+0100</td>\n",
       "      <td>GET/productcategory/furniture/HTTP/2.0</td>\n",
       "      <td>200.0</td>\n",
       "      <td>26619.0</td>\n",
       "      <td>https://your20th.com/shop/</td>\n",
       "      <td>Mozilla/5.0 (iPhone; CPU iPhone OS 15_1_1 like...</td>\n",
       "      <td>1.63989e+09</td>\n",
       "    </tr>\n",
       "    <tr>\n",
       "      <th>...</th>\n",
       "      <td>...</td>\n",
       "      <td>...</td>\n",
       "      <td>...</td>\n",
       "      <td>...</td>\n",
       "      <td>...</td>\n",
       "      <td>...</td>\n",
       "      <td>...</td>\n",
       "      <td>...</td>\n",
       "    </tr>\n",
       "    <tr>\n",
       "      <th>63152</th>\n",
       "      <td>99.85.74.115</td>\n",
       "      <td>04/01/2022 00:58:54+0100</td>\n",
       "      <td>GET/shop/midcenturyfoldingchessgametableczecho...</td>\n",
       "      <td>200.0</td>\n",
       "      <td>24715.0</td>\n",
       "      <td>https://www.google.com/</td>\n",
       "      <td>Mozilla/5.0 (iPhone; CPU iPhone OS 15_1_1 like...</td>\n",
       "      <td>1.64125e+09</td>\n",
       "    </tr>\n",
       "    <tr>\n",
       "      <th>63153</th>\n",
       "      <td>99.90.210.188</td>\n",
       "      <td>26/03/2022 23:59:26+0100</td>\n",
       "      <td>GET/shop/hungarianvintagefloorlamp1960s2/HTTP/2.0</td>\n",
       "      <td>200.0</td>\n",
       "      <td>25760.0</td>\n",
       "      <td>https://www.google.com/</td>\n",
       "      <td>Mozilla/5.0 (iPhone; CPU iPhone OS 15_4 like M...</td>\n",
       "      <td>1.64834e+09</td>\n",
       "    </tr>\n",
       "    <tr>\n",
       "      <th>63154</th>\n",
       "      <td>99.90.210.188</td>\n",
       "      <td>26/03/2022 23:59:32+0100</td>\n",
       "      <td>GET/shop/hungarianvintagefloorlamp1960s2/HTTP/2.0</td>\n",
       "      <td>200.0</td>\n",
       "      <td>25988.0</td>\n",
       "      <td>https://your20th.com/</td>\n",
       "      <td>Mozilla/5.0 (iPhone; CPU iPhone OS 15_4 like M...</td>\n",
       "      <td>1.64834e+09</td>\n",
       "    </tr>\n",
       "    <tr>\n",
       "      <th>63155</th>\n",
       "      <td>99.90.210.188</td>\n",
       "      <td>26/03/2022 23:59:38+0100</td>\n",
       "      <td>GET/brand/vintage/HTTP/2.0</td>\n",
       "      <td>200.0</td>\n",
       "      <td>29034.0</td>\n",
       "      <td>https://your20th.com/</td>\n",
       "      <td>Mozilla/5.0 (iPhone; CPU iPhone OS 15_4 like M...</td>\n",
       "      <td>1.64834e+09</td>\n",
       "    </tr>\n",
       "    <tr>\n",
       "      <th>63156</th>\n",
       "      <td>NaN</td>\n",
       "      <td>NaN</td>\n",
       "      <td>NaN</td>\n",
       "      <td>NaN</td>\n",
       "      <td>NaN</td>\n",
       "      <td>-</td>\n",
       "      <td>NaN</td>\n",
       "      <td></td>\n",
       "    </tr>\n",
       "  </tbody>\n",
       "</table>\n",
       "<p>63157 rows × 8 columns</p>\n",
       "</div>"
      ],
      "text/plain": [
       "                  IP                  DateTime  \\\n",
       "0       1.10.194.157  02/02/2022 23:24:00+0100   \n",
       "1      1.120.202.188  30/01/2022 07:51:12+0100   \n",
       "2        1.127.21.42  19/12/2021 05:48:45+0100   \n",
       "3        1.127.21.42  19/12/2021 05:49:11+0100   \n",
       "4        1.127.21.42  19/12/2021 05:49:33+0100   \n",
       "...              ...                       ...   \n",
       "63152   99.85.74.115  04/01/2022 00:58:54+0100   \n",
       "63153  99.90.210.188  26/03/2022 23:59:26+0100   \n",
       "63154  99.90.210.188  26/03/2022 23:59:32+0100   \n",
       "63155  99.90.210.188  26/03/2022 23:59:38+0100   \n",
       "63156            NaN                       NaN   \n",
       "\n",
       "                                                     URL  ResponseCode  \\\n",
       "0                                 GET/myaccount/HTTP/1.1         200.0   \n",
       "1       GET/shop/sofabiedermeiercirca1835europe/HTTP/2.0         200.0   \n",
       "2                         GET/producttag/german/HTTP/2.0         200.0   \n",
       "3                                      GET/shop/HTTP/2.0         200.0   \n",
       "4                 GET/productcategory/furniture/HTTP/2.0         200.0   \n",
       "...                                                  ...           ...   \n",
       "63152  GET/shop/midcenturyfoldingchessgametableczecho...         200.0   \n",
       "63153  GET/shop/hungarianvintagefloorlamp1960s2/HTTP/2.0         200.0   \n",
       "63154  GET/shop/hungarianvintagefloorlamp1960s2/HTTP/2.0         200.0   \n",
       "63155                         GET/brand/vintage/HTTP/2.0         200.0   \n",
       "63156                                                NaN           NaN   \n",
       "\n",
       "         Bytes                                 Referrer  \\\n",
       "0      18093.0                    https://your20th.com/   \n",
       "1      24140.0                  https://www.google.com/   \n",
       "2      23801.0               https://www.google.com.au/   \n",
       "3      26846.0  https://your20th.com/producttag/german/   \n",
       "4      26619.0               https://your20th.com/shop/   \n",
       "...        ...                                      ...   \n",
       "63152  24715.0                  https://www.google.com/   \n",
       "63153  25760.0                  https://www.google.com/   \n",
       "63154  25988.0                    https://your20th.com/   \n",
       "63155  29034.0                    https://your20th.com/   \n",
       "63156      NaN                                        -   \n",
       "\n",
       "                                               UserAgent     Unixtime  \n",
       "0      Mozilla/5.0 (X11; Linux x86_64; rv:56.0) Gecko...  1.64384e+09  \n",
       "1      Mozilla/5.0 (iPhone; CPU iPhone OS 15_1 like M...  1.64353e+09  \n",
       "2      Mozilla/5.0 (iPhone; CPU iPhone OS 15_1_1 like...  1.63989e+09  \n",
       "3      Mozilla/5.0 (iPhone; CPU iPhone OS 15_1_1 like...  1.63989e+09  \n",
       "4      Mozilla/5.0 (iPhone; CPU iPhone OS 15_1_1 like...  1.63989e+09  \n",
       "...                                                  ...          ...  \n",
       "63152  Mozilla/5.0 (iPhone; CPU iPhone OS 15_1_1 like...  1.64125e+09  \n",
       "63153  Mozilla/5.0 (iPhone; CPU iPhone OS 15_4 like M...  1.64834e+09  \n",
       "63154  Mozilla/5.0 (iPhone; CPU iPhone OS 15_4 like M...  1.64834e+09  \n",
       "63155  Mozilla/5.0 (iPhone; CPU iPhone OS 15_4 like M...  1.64834e+09  \n",
       "63156                                                NaN               \n",
       "\n",
       "[63157 rows x 8 columns]"
      ]
     },
     "execution_count": 99,
     "metadata": {},
     "output_type": "execute_result"
    }
   ],
   "source": [
    "df1"
   ]
  },
  {
   "cell_type": "code",
   "execution_count": 100,
   "metadata": {},
   "outputs": [],
   "source": [
    "df1.to_excel(r'cistenie.xlsx', sheet_name = 'main', index=None)"
   ]
  },
  {
   "cell_type": "markdown",
   "metadata": {},
   "source": [
    "# Identifikacia pouzivatelov\n"
   ]
  },
  {
   "cell_type": "code",
   "execution_count": 102,
   "metadata": {},
   "outputs": [],
   "source": [
    "df1 = pd.read_excel(\"cistenie.xlsx\")"
   ]
  },
  {
   "cell_type": "code",
   "execution_count": 125,
   "metadata": {},
   "outputs": [],
   "source": [
    "data2= df1.sort_values(['IP','UserAgent','Unixtime'], ascending=True)\n"
   ]
  },
  {
   "cell_type": "code",
   "execution_count": 126,
   "metadata": {},
   "outputs": [],
   "source": [
    "data2[\"User_id\"]= \"\""
   ]
  },
  {
   "cell_type": "code",
   "execution_count": 127,
   "metadata": {},
   "outputs": [],
   "source": [
    "data2['User_id'] = data2.groupby(['IP','UserAgent']).ngroup()"
   ]
  },
  {
   "cell_type": "code",
   "execution_count": 129,
   "metadata": {},
   "outputs": [],
   "source": [
    "data2.to_excel(r'identifikacia_pouzivatelov.xlsx', sheet_name = 'main', index=None)"
   ]
  },
  {
   "cell_type": "markdown",
   "metadata": {},
   "source": [
    "# Identifikácia Sedení\n"
   ]
  },
  {
   "cell_type": "code",
   "execution_count": 131,
   "metadata": {},
   "outputs": [],
   "source": [
    "df3 = pd.read_excel(\"identifikacia_pouzivatelov.xlsx\")"
   ]
  },
  {
   "cell_type": "code",
   "execution_count": 140,
   "metadata": {},
   "outputs": [],
   "source": [
    "SequenceID = 1800\n",
    "Sedenie = []\n",
    "sedenie = 0\n",
    "index = 0\n",
    "nextIndex = 1 \n",
    "\n",
    "#prechadzam cely subor, zoberem hodnoty stlpca id a porovnavam ich s nasledujucim riadkom ci sa rovnaju,\n",
    "#a ci unixtime nasledujuceho - akt riadku je mensi ako casove okno, ak je mensi zapisem\n",
    "\n",
    "for i in range(1,len(df3)):\n",
    "    if((df3.iloc[index,8] == df3.iloc[nextIndex,8]) and ((df3.iloc[nextIndex,7] - df3.iloc[index,7]) < SequenceID)):\n",
    "        Sedenie.append(sedenie)\n",
    "        index+=1\n",
    "        nextIndex+=1\n",
    "    else:\n",
    "        Sedenie.append(sedenie)\n",
    "        index+=1\n",
    "        nextIndex+=1\n",
    "        sedenie+=1"
   ]
  },
  {
   "cell_type": "code",
   "execution_count": 141,
   "metadata": {},
   "outputs": [],
   "source": [
    "Sedenie.append(\"\")\n",
    "df3[\"Sedenie\"] = Sedenie"
   ]
  },
  {
   "cell_type": "code",
   "execution_count": 142,
   "metadata": {},
   "outputs": [],
   "source": [
    "df3.to_excel(\"identifikacia_pouzivatelov.xlsx\", sheet_name = 'main', index=None)"
   ]
  },
  {
   "cell_type": "code",
   "execution_count": 182,
   "metadata": {},
   "outputs": [
    {
     "data": {
      "text/plain": [
       "13365"
      ]
     },
     "execution_count": 182,
     "metadata": {},
     "output_type": "execute_result"
    }
   ],
   "source": [
    "df3[\"User_id\"].nunique()"
   ]
  },
  {
   "cell_type": "code",
   "execution_count": 183,
   "metadata": {},
   "outputs": [
    {
     "data": {
      "text/plain": [
       "22954"
      ]
     },
     "execution_count": 183,
     "metadata": {},
     "output_type": "execute_result"
    }
   ],
   "source": [
    "df3[\"Sedenie\"].nunique()"
   ]
  },
  {
   "cell_type": "code",
   "execution_count": 265,
   "metadata": {},
   "outputs": [],
   "source": [
    "length = []\n",
    "index = 0\n",
    "nextIndex = 1\n",
    "for i in range(1,len(df3)):\n",
    "    if((df3.iloc[nextIndex,[8]].values == df3.iloc[index,[8]].values) and ((df3.iloc[nextIndex,[7]].values-df3.iloc[index,[7]].values) < SequenceID)):\n",
    "        length.append(str(df3.iloc[nextIndex,[7]].values-df3.iloc[index,[7]].values))\n",
    "        index+=1\n",
    "        nextIndex+=1\n",
    "    else:\n",
    "        length.append(\"\")\n",
    "        index+=1\n",
    "        nextIndex+=1\n",
    "        \n",
    "length.append(\"\")"
   ]
  },
  {
   "cell_type": "code",
   "execution_count": 266,
   "metadata": {},
   "outputs": [],
   "source": [
    "df3[\"Length\"] = length"
   ]
  },
  {
   "cell_type": "code",
   "execution_count": 267,
   "metadata": {},
   "outputs": [],
   "source": [
    "df3.to_excel(\"identifikacia_pouzivatelov.xlsx\", sheet_name='main', index=None)"
   ]
  },
  {
   "cell_type": "code",
   "execution_count": 148,
   "metadata": {},
   "outputs": [],
   "source": [
    "df3 = pd.read_excel(\"identifikacia_pouzivatelov.xlsx\")"
   ]
  },
  {
   "cell_type": "markdown",
   "metadata": {},
   "source": [
    "# Kategorizacia URL adries"
   ]
  },
  {
   "cell_type": "code",
   "execution_count": 268,
   "metadata": {},
   "outputs": [],
   "source": [
    "page = []\n",
    "df3[\"URL\"]= df3[\"URL\"].apply(str) \n",
    "\n",
    "for x in df3['URL']:\n",
    "    if re.search(\"GET/home\",x) or re.search(\"GET/your20th\",x):\n",
    "        page.append('home')\n",
    "    elif re.search(\"GET/feed\",x) or re.search(\"GET/your20th/feed\",x):\n",
    "        page.append('feed') \n",
    "    elif re.search(\"GET/comment\",x):\n",
    "        page.append('comments') \n",
    "    elif re.search(\"GET/shopHTTP\",x) or re.search(\"GET/shopHTTP\",x) or re.search(\"GET/shop/page\",x) or re.search(\"productcategory\",x) or re.search(\"GET/shop/HTTP\",x) or re.search(\"filter_p\",x) or re.search(\"orderby\",x) or re.search(\"GET/page\",x) or re.search(\"producttag\",x) or re.search(\"GET/brand\",x):\n",
    "        page.append('product-catalogue')\n",
    "    elif re.search(\"GET/shop/\",x):\n",
    "        page.append('product')    \n",
    "    elif re.search(\"addtocart\",x):\n",
    "        page.append('add-to-cart')  \n",
    "    elif re.search('add_to_wishlist',x):\n",
    "        page.append('add-to-wishlist')   \n",
    "    elif re.search(\"GET/myaccount/\",x):\n",
    "        page.append('my-account')\n",
    "    elif re.search(\"GET/faq/\",x):\n",
    "        page.append('FAQ')\n",
    "    elif re.search(\"GET/cart/HT\",x) or re.search(\"GET/cartHT\",x):\n",
    "        page.append('cart')\n",
    "    elif re.search(\"remove_item\",x):\n",
    "        page.append('remove-item')\n",
    "    elif re.search(\"GET/wishlist\",x):\n",
    "        page.append('wishlist')\n",
    "    elif re.search(\"GET/terms\",x):\n",
    "        page.append('terms-and-conditions')\n",
    "    elif re.search(\"GET/aboutus\",x):\n",
    "        page.append('About-us')\n",
    "    elif re.search(\"GET/blog\",x) or re.search(\"author\",x):\n",
    "        page.append('blog')\n",
    "    elif re.search(\"GET/checkout/HTTP\",x):\n",
    "        page.append('checkout')\n",
    "    elif re.search(\"GET/checkoutHTTP\",x):\n",
    "        page.append('checkout')\n",
    "    elif re.search(\"GET/checkout/orderreceived\",x):\n",
    "        page.append('order-received')\n",
    "    else:\n",
    "        page.append(\"\")"
   ]
  },
  {
   "cell_type": "code",
   "execution_count": 269,
   "metadata": {},
   "outputs": [],
   "source": [
    "df3[\"Page\"] = page"
   ]
  },
  {
   "cell_type": "code",
   "execution_count": 270,
   "metadata": {},
   "outputs": [],
   "source": [
    "category1 = []\n",
    "for x in df3['URL']:\n",
    "    \n",
    "    if re.search(\"wardrob\",x):\n",
    "        category1.append('product-category/furniture/wardrobes')\n",
    "        \n",
    "    elif re.search(\"GET/shopHTTP\",x) or re.search(\"GET/shopHTTP\",x) or re.search(\"GET/shop/page\",x) or re.search(\"productcategory\",x) or re.search(\"GET/shop/HTTP\",x) or re.search(\"filter_p\",x) or re.search(\"orderby\",x) or re.search(\"GET/page\",x) or re.search(\"producttag\",x) or re.search(\"GET/brand\",x):\n",
    "        category1.append(\"product-catalogue\")\n",
    "\n",
    "    elif re.search(\"catalogue\",x):\n",
    "        category1.append('product-category/magazines-books')\n",
    "\n",
    "    elif re.search(\"map\",x) or re.search(\"poster\",x):\n",
    "        category1.append('product-category/maps-posters')\n",
    "\n",
    "    elif re.search(\"statuette\",x) or re.search(\"originalflag\",x):\n",
    "        category1.append('product-category/statues-and-statuettes/')\n",
    "\n",
    "    elif re.search(\"machine\",x) or re.search(\"medicineball\",x) or re.search(\"horsecollar\",x):\n",
    "        category1.append('product-category/toys')\n",
    "#furniture/seating\n",
    "    elif re.search(\"chair\",x) or re.search(\"seat\",x) or re.search(\"livingroom\",x) :\n",
    "        category1.append('product-category/furniture/seating')\n",
    "        \n",
    "    elif re.search(\"armchair\",x):\n",
    "        category1.append('product-category/furniture/seating/armchairs')\n",
    "        \n",
    "    elif re.search(\"sofa\",x):\n",
    "        category1.append('product-category/furniture/seating/sofas')\n",
    "        \n",
    "    elif re.search(\"pouffe\",x) or re.search(\"stool\",x):\n",
    "        category1.append('product-category/furniture/seating/pouffes-and-stools')\n",
    "        \n",
    "    elif re.search(\"dining\",x):\n",
    "        category1.append('product-category/furniture/seating/dining-sets')\n",
    "\n",
    "    elif re.search(\"bed\",x):\n",
    "        category1.append('product-category/furniture/bedrooms')\n",
    "\n",
    "    elif re.search(\"bookcase\",x) or re.search(\"case\",x):\n",
    "        category1.append('product-category/furniture/bookcases')\n",
    "\n",
    "    elif re.search(\"coat\",x):\n",
    "        category1.append('product-category/furniture/coat-stands')\n",
    "\n",
    "    elif re.search(\"dress\",x):\n",
    "        category1.append('product-category/furniture/dressers')\n",
    "\n",
    "    elif re.search(\"mirror\",x):\n",
    "        category1.append('product-category/furniture/mirrors')\n",
    "\n",
    "    elif re.search(\"plantstand/\",x):\n",
    "        category1.append('product-category/furniture/plant-stands')\n",
    "\n",
    "    elif re.search(\"rug\",x) or re.search(\"carpet\",x):\n",
    "        category1.append('product-category/furniture/rugs-carpets')\n",
    "\n",
    "    elif re.search(\"sideboard\",x) or re.search(\"cabinet\",x) or re.search(\"bed\",x) or re.search(\"chest\",x) or re.search(\"rack\",x):\n",
    "        category1.append('product-category/furniture/secretaries-cabinets')\n",
    "\n",
    "    elif re.search(\"shelf\",x) or re.search(\"shelv\",x) or re.search(\"hanger\",x):\n",
    "        category1.append('product-category/furniture/shelves')\n",
    "#furniture/tables \n",
    "    elif re.search(\"coffeet\",x):\n",
    "        category1.append('product-category/furniture/tables/coffee-tables')\n",
    "    \n",
    "    elif re.search(\"sidetab\",x):\n",
    "        category1.append('product-category/furniture/tables/side-tables')\n",
    "        \n",
    "    elif re.search(\"table\",x) or re.search(\"desk\",x) or re.search(\"stand\",x) or re.search(\"trolley\",x):\n",
    "        category1.append('product-category/furniture/tables')\n",
    "        \n",
    "    elif re.search(\"nightstand\",x):\n",
    "        category1.append('product-category/furniture/tables/nightstands')\n",
    "#glass\n",
    "    elif re.search(\"glass\",x) or re.search(\"bowl\",x) or re.search(\"telescope\",x) or re.search(\"vase\",x) or re.search(\"sculpture\",x) or re.search(\"skeleton\",x) or re.search(\"ceramic\",x) or re.search(\"porcelain\",x) or re.search(\"tesla\",x) or re.search(\"globe\",x) or re.search(\"divider\",x):\n",
    "        category1.append('product-category/decorative-objects')\n",
    "#lighting\n",
    "    elif re.search(\"lamp\",x) or re.search(\"light\",x):\n",
    "        category1.append('product-category/lighting')\n",
    "        \n",
    "    elif re.search(\"tablelamp\",x):\n",
    "        category1.append('product-category/lighting/table-lamps')\n",
    "        \n",
    "    elif re.search(\"floorlamp\",x):\n",
    "        category1.append('product-category/lighting/floor-lamps')\n",
    "        \n",
    "    elif re.search(\"walll\",x):\n",
    "        category1.append('product-category/lighting/wall-lamps')   \n",
    "        \n",
    "    elif re.search(\"chandelier\",x) or re.search(\"pendant\",x):\n",
    "        category1.append('product-category/lighting/chandeliers-and-pendants')\n",
    "#clock\n",
    "    elif re.search(\"clock\",x):\n",
    "        category1.append('product-category/clock')\n",
    "#konverzia       \n",
    "    elif re.search(\"addtocart\",x):\n",
    "        category1.append('add-to-cart')\n",
    "    \n",
    "    elif re.search(\"remove\",x):\n",
    "        category1.append('remove-item')\n",
    "        \n",
    "    elif re.search(\"GET/checkout/HTTP\",x):\n",
    "        category1.append('checkout')\n",
    "\n",
    "    elif re.search(\"GET/checkout/orderreceived\",x):\n",
    "        category1.append('order-received')\n",
    "    else:\n",
    "        category1.append(\"\")"
   ]
  },
  {
   "cell_type": "code",
   "execution_count": 271,
   "metadata": {},
   "outputs": [],
   "source": [
    "df3[\"Product_category\"] = category1"
   ]
  },
  {
   "cell_type": "code",
   "execution_count": 272,
   "metadata": {},
   "outputs": [
    {
     "data": {
      "text/html": [
       "<div>\n",
       "<style scoped>\n",
       "    .dataframe tbody tr th:only-of-type {\n",
       "        vertical-align: middle;\n",
       "    }\n",
       "\n",
       "    .dataframe tbody tr th {\n",
       "        vertical-align: top;\n",
       "    }\n",
       "\n",
       "    .dataframe thead th {\n",
       "        text-align: right;\n",
       "    }\n",
       "</style>\n",
       "<table border=\"1\" class=\"dataframe\">\n",
       "  <thead>\n",
       "    <tr style=\"text-align: right;\">\n",
       "      <th></th>\n",
       "      <th>IP</th>\n",
       "      <th>DateTime</th>\n",
       "      <th>URL</th>\n",
       "      <th>ResponseCode</th>\n",
       "      <th>Bytes</th>\n",
       "      <th>Referrer</th>\n",
       "      <th>UserAgent</th>\n",
       "      <th>Unixtime</th>\n",
       "      <th>User_id</th>\n",
       "      <th>Sedenie</th>\n",
       "      <th>Length</th>\n",
       "      <th>Page</th>\n",
       "      <th>Product_category</th>\n",
       "      <th>Skuska</th>\n",
       "    </tr>\n",
       "  </thead>\n",
       "  <tbody>\n",
       "    <tr>\n",
       "      <th>0</th>\n",
       "      <td>1.10.194.157</td>\n",
       "      <td>02/02/2022 23:24:00+0100</td>\n",
       "      <td>GET/myaccount/HTTP/1.1</td>\n",
       "      <td>200</td>\n",
       "      <td>18093</td>\n",
       "      <td>https://your20th.com/</td>\n",
       "      <td>Mozilla/5.0 (X11; Linux x86_64; rv:56.0) Gecko...</td>\n",
       "      <td>1643840640</td>\n",
       "      <td>0</td>\n",
       "      <td>0.0</td>\n",
       "      <td></td>\n",
       "      <td>my-account</td>\n",
       "      <td></td>\n",
       "      <td></td>\n",
       "    </tr>\n",
       "    <tr>\n",
       "      <th>1</th>\n",
       "      <td>1.120.202.188</td>\n",
       "      <td>30/01/2022 07:51:12+0100</td>\n",
       "      <td>GET/shop/sofabiedermeiercirca1835europe/HTTP/2.0</td>\n",
       "      <td>200</td>\n",
       "      <td>24140</td>\n",
       "      <td>https://www.google.com/</td>\n",
       "      <td>Mozilla/5.0 (iPhone; CPU iPhone OS 15_1 like M...</td>\n",
       "      <td>1643525472</td>\n",
       "      <td>1</td>\n",
       "      <td>1.0</td>\n",
       "      <td></td>\n",
       "      <td>product</td>\n",
       "      <td>product-category/furniture/seating/sofas</td>\n",
       "      <td></td>\n",
       "    </tr>\n",
       "    <tr>\n",
       "      <th>2</th>\n",
       "      <td>1.127.21.42</td>\n",
       "      <td>19/12/2021 05:48:45+0100</td>\n",
       "      <td>GET/producttag/german/HTTP/2.0</td>\n",
       "      <td>200</td>\n",
       "      <td>23801</td>\n",
       "      <td>https://www.google.com.au/</td>\n",
       "      <td>Mozilla/5.0 (iPhone; CPU iPhone OS 15_1_1 like...</td>\n",
       "      <td>1639889325</td>\n",
       "      <td>2</td>\n",
       "      <td>2.0</td>\n",
       "      <td>[26]</td>\n",
       "      <td>product-catalogue</td>\n",
       "      <td>product-catalogue</td>\n",
       "      <td>3</td>\n",
       "    </tr>\n",
       "    <tr>\n",
       "      <th>3</th>\n",
       "      <td>1.127.21.42</td>\n",
       "      <td>19/12/2021 05:49:11+0100</td>\n",
       "      <td>GET/shop/HTTP/2.0</td>\n",
       "      <td>200</td>\n",
       "      <td>26846</td>\n",
       "      <td>https://your20th.com/producttag/german/</td>\n",
       "      <td>Mozilla/5.0 (iPhone; CPU iPhone OS 15_1_1 like...</td>\n",
       "      <td>1639889351</td>\n",
       "      <td>2</td>\n",
       "      <td>2.0</td>\n",
       "      <td>[22]</td>\n",
       "      <td>product-catalogue</td>\n",
       "      <td>product-catalogue</td>\n",
       "      <td>3</td>\n",
       "    </tr>\n",
       "    <tr>\n",
       "      <th>4</th>\n",
       "      <td>1.127.21.42</td>\n",
       "      <td>19/12/2021 05:49:33+0100</td>\n",
       "      <td>GET/productcategory/furniture/HTTP/2.0</td>\n",
       "      <td>200</td>\n",
       "      <td>26619</td>\n",
       "      <td>https://your20th.com/shop/</td>\n",
       "      <td>Mozilla/5.0 (iPhone; CPU iPhone OS 15_1_1 like...</td>\n",
       "      <td>1639889373</td>\n",
       "      <td>2</td>\n",
       "      <td>2.0</td>\n",
       "      <td>[10]</td>\n",
       "      <td>product-catalogue</td>\n",
       "      <td>product-catalogue</td>\n",
       "      <td>3</td>\n",
       "    </tr>\n",
       "    <tr>\n",
       "      <th>...</th>\n",
       "      <td>...</td>\n",
       "      <td>...</td>\n",
       "      <td>...</td>\n",
       "      <td>...</td>\n",
       "      <td>...</td>\n",
       "      <td>...</td>\n",
       "      <td>...</td>\n",
       "      <td>...</td>\n",
       "      <td>...</td>\n",
       "      <td>...</td>\n",
       "      <td>...</td>\n",
       "      <td>...</td>\n",
       "      <td>...</td>\n",
       "      <td>...</td>\n",
       "    </tr>\n",
       "    <tr>\n",
       "      <th>62961</th>\n",
       "      <td>99.66.19.51</td>\n",
       "      <td>29/03/2022 12:27:20+0200</td>\n",
       "      <td>GET/shop/harveyguzzinimushroomadjustablelamp19...</td>\n",
       "      <td>200</td>\n",
       "      <td>25596</td>\n",
       "      <td>https://your20th.com/shop/harveyguzzinimushroo...</td>\n",
       "      <td>Mozilla/5.0 (iPhone; CPU iPhone OS 15_3_1 like...</td>\n",
       "      <td>1648549640</td>\n",
       "      <td>13362</td>\n",
       "      <td>22951.0</td>\n",
       "      <td></td>\n",
       "      <td>product</td>\n",
       "      <td>product-category/furniture/tables</td>\n",
       "      <td></td>\n",
       "    </tr>\n",
       "    <tr>\n",
       "      <th>62962</th>\n",
       "      <td>99.85.74.115</td>\n",
       "      <td>04/01/2022 00:58:54+0100</td>\n",
       "      <td>GET/shop/midcenturyfoldingchessgametableczecho...</td>\n",
       "      <td>200</td>\n",
       "      <td>24715</td>\n",
       "      <td>https://www.google.com/</td>\n",
       "      <td>Mozilla/5.0 (iPhone; CPU iPhone OS 15_1_1 like...</td>\n",
       "      <td>1641254334</td>\n",
       "      <td>13363</td>\n",
       "      <td>22952.0</td>\n",
       "      <td></td>\n",
       "      <td>product</td>\n",
       "      <td>product-category/furniture/tables</td>\n",
       "      <td></td>\n",
       "    </tr>\n",
       "    <tr>\n",
       "      <th>62963</th>\n",
       "      <td>99.90.210.188</td>\n",
       "      <td>26/03/2022 23:59:26+0100</td>\n",
       "      <td>GET/shop/hungarianvintagefloorlamp1960s2/HTTP/2.0</td>\n",
       "      <td>200</td>\n",
       "      <td>25760</td>\n",
       "      <td>https://www.google.com/</td>\n",
       "      <td>Mozilla/5.0 (iPhone; CPU iPhone OS 15_4 like M...</td>\n",
       "      <td>1648335566</td>\n",
       "      <td>13364</td>\n",
       "      <td>22953.0</td>\n",
       "      <td>[6]</td>\n",
       "      <td>product</td>\n",
       "      <td>product-category/lighting</td>\n",
       "      <td>22954</td>\n",
       "    </tr>\n",
       "    <tr>\n",
       "      <th>62964</th>\n",
       "      <td>99.90.210.188</td>\n",
       "      <td>26/03/2022 23:59:32+0100</td>\n",
       "      <td>GET/shop/hungarianvintagefloorlamp1960s2/HTTP/2.0</td>\n",
       "      <td>200</td>\n",
       "      <td>25988</td>\n",
       "      <td>https://your20th.com/</td>\n",
       "      <td>Mozilla/5.0 (iPhone; CPU iPhone OS 15_4 like M...</td>\n",
       "      <td>1648335572</td>\n",
       "      <td>13364</td>\n",
       "      <td>22953.0</td>\n",
       "      <td>[6]</td>\n",
       "      <td>product</td>\n",
       "      <td>product-category/lighting</td>\n",
       "      <td></td>\n",
       "    </tr>\n",
       "    <tr>\n",
       "      <th>62965</th>\n",
       "      <td>99.90.210.188</td>\n",
       "      <td>26/03/2022 23:59:38+0100</td>\n",
       "      <td>GET/brand/vintage/HTTP/2.0</td>\n",
       "      <td>200</td>\n",
       "      <td>29034</td>\n",
       "      <td>https://your20th.com/</td>\n",
       "      <td>Mozilla/5.0 (iPhone; CPU iPhone OS 15_4 like M...</td>\n",
       "      <td>1648335578</td>\n",
       "      <td>13364</td>\n",
       "      <td>NaN</td>\n",
       "      <td></td>\n",
       "      <td>product-catalogue</td>\n",
       "      <td>product-catalogue</td>\n",
       "      <td></td>\n",
       "    </tr>\n",
       "  </tbody>\n",
       "</table>\n",
       "<p>62966 rows × 14 columns</p>\n",
       "</div>"
      ],
      "text/plain": [
       "                  IP                  DateTime  \\\n",
       "0       1.10.194.157  02/02/2022 23:24:00+0100   \n",
       "1      1.120.202.188  30/01/2022 07:51:12+0100   \n",
       "2        1.127.21.42  19/12/2021 05:48:45+0100   \n",
       "3        1.127.21.42  19/12/2021 05:49:11+0100   \n",
       "4        1.127.21.42  19/12/2021 05:49:33+0100   \n",
       "...              ...                       ...   \n",
       "62961    99.66.19.51  29/03/2022 12:27:20+0200   \n",
       "62962   99.85.74.115  04/01/2022 00:58:54+0100   \n",
       "62963  99.90.210.188  26/03/2022 23:59:26+0100   \n",
       "62964  99.90.210.188  26/03/2022 23:59:32+0100   \n",
       "62965  99.90.210.188  26/03/2022 23:59:38+0100   \n",
       "\n",
       "                                                     URL  ResponseCode  Bytes  \\\n",
       "0                                 GET/myaccount/HTTP/1.1           200  18093   \n",
       "1       GET/shop/sofabiedermeiercirca1835europe/HTTP/2.0           200  24140   \n",
       "2                         GET/producttag/german/HTTP/2.0           200  23801   \n",
       "3                                      GET/shop/HTTP/2.0           200  26846   \n",
       "4                 GET/productcategory/furniture/HTTP/2.0           200  26619   \n",
       "...                                                  ...           ...    ...   \n",
       "62961  GET/shop/harveyguzzinimushroomadjustablelamp19...           200  25596   \n",
       "62962  GET/shop/midcenturyfoldingchessgametableczecho...           200  24715   \n",
       "62963  GET/shop/hungarianvintagefloorlamp1960s2/HTTP/2.0           200  25760   \n",
       "62964  GET/shop/hungarianvintagefloorlamp1960s2/HTTP/2.0           200  25988   \n",
       "62965                         GET/brand/vintage/HTTP/2.0           200  29034   \n",
       "\n",
       "                                                Referrer  \\\n",
       "0                                  https://your20th.com/   \n",
       "1                                https://www.google.com/   \n",
       "2                             https://www.google.com.au/   \n",
       "3                https://your20th.com/producttag/german/   \n",
       "4                             https://your20th.com/shop/   \n",
       "...                                                  ...   \n",
       "62961  https://your20th.com/shop/harveyguzzinimushroo...   \n",
       "62962                            https://www.google.com/   \n",
       "62963                            https://www.google.com/   \n",
       "62964                              https://your20th.com/   \n",
       "62965                              https://your20th.com/   \n",
       "\n",
       "                                               UserAgent    Unixtime  User_id  \\\n",
       "0      Mozilla/5.0 (X11; Linux x86_64; rv:56.0) Gecko...  1643840640        0   \n",
       "1      Mozilla/5.0 (iPhone; CPU iPhone OS 15_1 like M...  1643525472        1   \n",
       "2      Mozilla/5.0 (iPhone; CPU iPhone OS 15_1_1 like...  1639889325        2   \n",
       "3      Mozilla/5.0 (iPhone; CPU iPhone OS 15_1_1 like...  1639889351        2   \n",
       "4      Mozilla/5.0 (iPhone; CPU iPhone OS 15_1_1 like...  1639889373        2   \n",
       "...                                                  ...         ...      ...   \n",
       "62961  Mozilla/5.0 (iPhone; CPU iPhone OS 15_3_1 like...  1648549640    13362   \n",
       "62962  Mozilla/5.0 (iPhone; CPU iPhone OS 15_1_1 like...  1641254334    13363   \n",
       "62963  Mozilla/5.0 (iPhone; CPU iPhone OS 15_4 like M...  1648335566    13364   \n",
       "62964  Mozilla/5.0 (iPhone; CPU iPhone OS 15_4 like M...  1648335572    13364   \n",
       "62965  Mozilla/5.0 (iPhone; CPU iPhone OS 15_4 like M...  1648335578    13364   \n",
       "\n",
       "       Sedenie Length               Page  \\\n",
       "0          0.0                my-account   \n",
       "1          1.0                   product   \n",
       "2          2.0   [26]  product-catalogue   \n",
       "3          2.0   [22]  product-catalogue   \n",
       "4          2.0   [10]  product-catalogue   \n",
       "...        ...    ...                ...   \n",
       "62961  22951.0                   product   \n",
       "62962  22952.0                   product   \n",
       "62963  22953.0    [6]            product   \n",
       "62964  22953.0    [6]            product   \n",
       "62965      NaN         product-catalogue   \n",
       "\n",
       "                               Product_category Skuska  \n",
       "0                                                       \n",
       "1      product-category/furniture/seating/sofas         \n",
       "2                             product-catalogue      3  \n",
       "3                             product-catalogue      3  \n",
       "4                             product-catalogue      3  \n",
       "...                                         ...    ...  \n",
       "62961         product-category/furniture/tables         \n",
       "62962         product-category/furniture/tables         \n",
       "62963                 product-category/lighting  22954  \n",
       "62964                 product-category/lighting         \n",
       "62965                         product-catalogue         \n",
       "\n",
       "[62966 rows x 14 columns]"
      ]
     },
     "execution_count": 272,
     "metadata": {},
     "output_type": "execute_result"
    }
   ],
   "source": [
    "df3"
   ]
  },
  {
   "cell_type": "code",
   "execution_count": 274,
   "metadata": {},
   "outputs": [],
   "source": [
    "df3.to_excel(\"kategorizacia.xlsx\", sheet_name=\"main\", index=None)"
   ]
  },
  {
   "cell_type": "code",
   "execution_count": 275,
   "metadata": {},
   "outputs": [],
   "source": [
    "kategorizacia = pd.read_excel(\"kategorizacia.xlsx\")"
   ]
  },
  {
   "cell_type": "code",
   "execution_count": 276,
   "metadata": {},
   "outputs": [],
   "source": [
    "page = []\n",
    "kategorizacia['URL'].apply(str)\n",
    "\n",
    "for x in kategorizacia['URL']:\n",
    "    if re.search(\"GET/home\",x) or re.search(\"GET/your20th\",x):\n",
    "        page.append('home')\n",
    "    elif re.search(\"GET/feed\",x) or re.search(\"GET/your20th/feed\",x):\n",
    "        page.append('feed') \n",
    "    elif re.search(\"GET/comment\",x):\n",
    "        page.append('comments') \n",
    "    elif re.search(\"GET/shopHTTP\",x) or re.search(\"GET/shopHTTP\",x) or re.search(\"GET/shop/page\",x) or re.search(\"productcategory\",x) or re.search(\"GET/shop/HTTP\",x) or re.search(\"filter_p\",x) or re.search(\"orderby\",x) or re.search(\"GET/page\",x) or re.search(\"producttag\",x) or re.search(\"GET/brand\",x):\n",
    "        page.append(\"product-catalogue\")\n",
    "    elif re.search(\"addtocart\",x):\n",
    "        page.append('add-to-cart')  \n",
    "    elif re.search('add_to_wishlist',x):\n",
    "        page.append('add-to-wishlist')   \n",
    "    elif re.search(\"GET/myaccount/\",x):\n",
    "        page.append('my-account')\n",
    "    elif re.search(\"GET/faq/\",x):\n",
    "        page.append('FAQ')\n",
    "    elif re.search(\"GET/cart/\",x):\n",
    "        page.append('cart')\n",
    "    elif re.search(\"GET/wishlist\",x):\n",
    "        page.append('wishlist')\n",
    "    elif re.search(\"GET/terms\",x):\n",
    "        page.append('terms-and-conditions')\n",
    "    elif re.search(\"GET/aboutus\",x):\n",
    "        page.append('About-us')\n",
    "    elif re.search(\"GET/blog\",x) or re.search(\"author\",x):\n",
    "        page.append('blog')\n",
    "    elif re.search(\"GET/checkout/HTTP\",x):\n",
    "        page.append('checkout')\n",
    "    elif re.search(\"GET/checkout/orderreceived\",x):\n",
    "        page.append('order-received')\n",
    "    \n",
    "    elif re.search(\"productcategory\",x) or re.search(\"producttag\",x):\n",
    "        page.append(\"product-catalogue\")\n",
    "        \n",
    "    elif re.search(\"wardrob\",x):\n",
    "        page.append('product-category/furniture/wardrobes')\n",
    "\n",
    "    elif re.search(\"catalogue\",x):\n",
    "        page.append('product-category/magazines-books')\n",
    "\n",
    "    elif re.search(\"map\",x) or re.search(\"poster\",x):\n",
    "        page.append('product-category/maps-posters')\n",
    "\n",
    "    elif re.search(\"statuette\",x) or re.search(\"originalflag\",x):\n",
    "        page.append('product-category/statues-and-statuettes/')\n",
    "\n",
    "    elif re.search(\"machine\",x) or re.search(\"medicineball\",x) or re.search(\"horsecollar\",x):\n",
    "        page.append('product-category/toys')\n",
    "#furniture/seating\n",
    "    elif re.search(\"chair\",x) or re.search(\"seat\",x) or re.search(\"livingroom\",x) :\n",
    "        page.append('product-category/furniture/seating')\n",
    "        \n",
    "    elif re.search(\"armchair\",x):\n",
    "        page.append('product-category/furniture/seating/armchairs')\n",
    "        \n",
    "    elif re.search(\"sofa\",x):\n",
    "        page.append('product-category/furniture/seating/sofas')\n",
    "        \n",
    "    elif re.search(\"pouffe\",x) or re.search(\"stool\",x):\n",
    "        page.append('product-category/furniture/seating/pouffes-and-stools')\n",
    "        \n",
    "    elif re.search(\"dining\",x):\n",
    "        page.append('product-category/furniture/seating/dining-sets')\n",
    "\n",
    "    elif re.search(\"bed\",x):\n",
    "        page.append('product-category/furniture/bedrooms')\n",
    "\n",
    "    elif re.search(\"bookcase\",x) or re.search(\"case\",x):\n",
    "        page.append('product-category/furniture/bookcases')\n",
    "\n",
    "    elif re.search(\"coat\",x):\n",
    "        page.append('product-category/furniture/coat-stands')\n",
    "\n",
    "    elif re.search(\"dress\",x):\n",
    "        page.append('product-category/furniture/dressers')\n",
    "\n",
    "    elif re.search(\"mirror\",x):\n",
    "        page.append('product-category/furniture/mirrors')\n",
    "\n",
    "    elif re.search(\"plantstand/\",x):\n",
    "        page.append('product-category/furniture/plant-stands')\n",
    "\n",
    "    elif re.search(\"rug\",x) or re.search(\"carpet\",x):\n",
    "        page.append('product-category/furniture/rugs-carpets')\n",
    "\n",
    "    elif re.search(\"sideboard\",x) or re.search(\"cabinet\",x) or re.search(\"bed\",x) or re.search(\"chest\",x) or re.search(\"rack\",x):\n",
    "        page.append('product-category/furniture/secretaries-cabinets')\n",
    "\n",
    "    elif re.search(\"shelf\",x) or re.search(\"shelv\",x) or re.search(\"hanger\",x):\n",
    "        page.append('product-category/furniture/shelves')\n",
    "#furniture/tables \n",
    "    elif re.search(\"coffeet\",x):\n",
    "        page.append('product-category/furniture/tables/coffee-tables')\n",
    "    \n",
    "    elif re.search(\"sidetab\",x):\n",
    "        page.append('product-category/furniture/tables/side-tables')\n",
    "        \n",
    "    elif re.search(\"table\",x) or re.search(\"desk\",x) or re.search(\"stand\",x) or re.search(\"trolley\",x):\n",
    "        page.append('product-category/furniture/tables')\n",
    "        \n",
    "    elif re.search(\"nightstand\",x):\n",
    "        page.append('product-category/furniture/tables/nightstands')\n",
    "#glass\n",
    "    elif re.search(\"glass\",x) or re.search(\"bowl\",x) or re.search(\"telescope\",x) or re.search(\"vase\",x) or re.search(\"sculpture\",x) or re.search(\"skeleton\",x) or re.search(\"ceramic\",x) or re.search(\"porcelain\",x) or re.search(\"tesla\",x) or re.search(\"globe\",x) or re.search(\"divider\",x):\n",
    "        page.append('product-category/decorative-objects')\n",
    "#lighting\n",
    "    elif re.search(\"lamp\",x) or re.search(\"light\",x):\n",
    "        page.append('product-category/lighting')\n",
    "        \n",
    "    elif re.search(\"tablelamp\",x):\n",
    "        page.append('product-category/lighting/table-lamps')\n",
    "        \n",
    "    elif re.search(\"floorlamp\",x):\n",
    "        page.append('product-category/lighting/floor-lamps')\n",
    "        \n",
    "    elif re.search(\"walll\",x):\n",
    "        page.append('product-category/lighting/wall-lamps')   \n",
    "        \n",
    "    elif re.search(\"chandelier\",x) or re.search(\"pendant\",x):\n",
    "        page.append('product-category/lighting/chandeliers-and-pendants')\n",
    "#clock\n",
    "    elif re.search(\"clock\",x):\n",
    "        page.append('product-category/clock')\n",
    "        \n",
    "    elif re.search(\"login\",x):\n",
    "        page.append('login')\n",
    "        \n",
    "    elif re.search(\"remove\",x):\n",
    "        page.append('remove-item')\n",
    "    \n",
    "#konverzia       \n",
    "    elif re.search(\"addtocart\",x):\n",
    "        page.append('add-to-cart')\n",
    "    \n",
    "    elif re.search(\"remove\",x):\n",
    "        page.append('remove-item')\n",
    "        \n",
    "    elif re.search(\"GET/checkout/HTTP\",x):\n",
    "        page.append('checkout')\n",
    "\n",
    "    elif re.search(\"GET/checkout/orderreceived\",x):\n",
    "        page.append('order-recieved')\n",
    "    else:\n",
    "        page.append(\"\")"
   ]
  },
  {
   "cell_type": "code",
   "execution_count": 277,
   "metadata": {},
   "outputs": [],
   "source": [
    "kategorizacia[\"Vsetko\"] = page"
   ]
  },
  {
   "cell_type": "code",
   "execution_count": 278,
   "metadata": {},
   "outputs": [],
   "source": [
    "kategorizacia.to_excel(\"kategorizacia.xlsx\", sheet_name=\"main\", index=None)"
   ]
  },
  {
   "cell_type": "markdown",
   "metadata": {},
   "source": [
    "# rozdelenie datasetu na konverzie\n",
    "## - add to cart\n",
    "## - add to wishlist\n",
    "## - order received"
   ]
  },
  {
   "cell_type": "code",
   "execution_count": 316,
   "metadata": {},
   "outputs": [],
   "source": [
    "kategorizacia = pd.read_excel(\"kategorizacia.xlsx\")"
   ]
  },
  {
   "cell_type": "code",
   "execution_count": 337,
   "metadata": {},
   "outputs": [],
   "source": [
    "#add_to_cart\n",
    "a = kategorizacia[kategorizacia[\"Page\"]== \"add-to-cart\"]\n",
    "ip = a[\"User_id\"].unique()\n",
    "df_final = kategorizacia[kategorizacia['User_id'].isin(ip)]"
   ]
  },
  {
   "cell_type": "code",
   "execution_count": 340,
   "metadata": {},
   "outputs": [],
   "source": [
    "df_final.to_excel(\"add_to_cart.xlsx\", sheet_name=\"main\", index=None)"
   ]
  },
  {
   "cell_type": "code",
   "execution_count": 341,
   "metadata": {},
   "outputs": [],
   "source": [
    "#add_to_wishlist\n",
    "b = kategorizacia[kategorizacia[\"Page\"]== \"add-to-wishlist\"]\n",
    "ip = b[\"User_id\"].unique()\n",
    "wishlist = kategorizacia[kategorizacia['User_id'].isin(ip)]"
   ]
  },
  {
   "cell_type": "code",
   "execution_count": 342,
   "metadata": {},
   "outputs": [],
   "source": [
    "wishlist.to_excel(\"add_to_wishlist.xlsx\", sheet_name=\"main\", index=None)"
   ]
  },
  {
   "cell_type": "code",
   "execution_count": 347,
   "metadata": {},
   "outputs": [],
   "source": [
    "#order_received\n",
    "a = kategorizacia[kategorizacia[\"Page\"]== \"order-received\"]\n",
    "ip = a[\"User_id\"].unique()\n",
    "order = kategorizacia[kategorizacia['User_id'].isin(ip)]"
   ]
  },
  {
   "cell_type": "code",
   "execution_count": 351,
   "metadata": {},
   "outputs": [
    {
     "data": {
      "text/plain": [
       "26"
      ]
     },
     "execution_count": 351,
     "metadata": {},
     "output_type": "execute_result"
    }
   ],
   "source": [
    "order[\"User_id\"].nunique()"
   ]
  },
  {
   "cell_type": "code",
   "execution_count": 352,
   "metadata": {},
   "outputs": [],
   "source": [
    "order.to_excel(\"order_received.xlsx\", sheet_name=\"main\", index=None)"
   ]
  },
  {
   "cell_type": "markdown",
   "metadata": {},
   "source": [
    "# Exploračná analýza"
   ]
  },
  {
   "cell_type": "code",
   "execution_count": 288,
   "metadata": {},
   "outputs": [],
   "source": [
    "import plotly.graph_objects as go\n",
    "import matplotlib.pyplot as plt"
   ]
  },
  {
   "cell_type": "code",
   "execution_count": 289,
   "metadata": {},
   "outputs": [],
   "source": [
    "pristupy = pd.read_excel(\"kategorizacia.xlsx\")"
   ]
  },
  {
   "cell_type": "code",
   "execution_count": 358,
   "metadata": {},
   "outputs": [
    {
     "data": {
      "text/plain": [
       "[('product-catalogue', 21843),\n",
       " (nan, 18949),\n",
       " ('product-category/furniture/seating', 4756),\n",
       " ('product-category/lighting/chandeliers-and-pendants', 4372),\n",
       " ('product-category/furniture/tables', 2294),\n",
       " ('product-category/furniture/secretaries-cabinets', 1820),\n",
       " ('product-category/lighting', 1394),\n",
       " ('product-category/furniture/seating/sofas', 1174),\n",
       " ('product-category/furniture/tables/coffee-tables', 1062),\n",
       " ('product-category/decorative-objects', 1022),\n",
       " ('product-category/furniture/seating/dining-sets', 692),\n",
       " ('product-category/furniture/seating/pouffes-and-stools', 466),\n",
       " ('product-category/furniture/tables/side-tables', 447),\n",
       " ('product-category/furniture/wardrobes', 443),\n",
       " ('product-category/furniture/bookcases', 442),\n",
       " ('product-category/furniture/bedrooms', 319),\n",
       " ('add-to-cart', 290),\n",
       " ('product-category/furniture/shelves', 273),\n",
       " ('product-category/furniture/dressers', 228),\n",
       " ('product-category/furniture/coat-stands', 160),\n",
       " ('product-category/maps-posters', 159),\n",
       " ('checkout', 109),\n",
       " ('remove-item', 44),\n",
       " ('product-category/clock', 40),\n",
       " ('product-category/furniture/rugs-carpets', 38),\n",
       " ('product-category/furniture/mirrors', 34),\n",
       " ('order-received', 31),\n",
       " ('product-category/statues-and-statuettes/', 28),\n",
       " ('product-category/toys', 26),\n",
       " ('product-category/magazines-books', 11)]"
      ]
     },
     "execution_count": 358,
     "metadata": {},
     "output_type": "execute_result"
    }
   ],
   "source": [
    "list_of_words= pristupy['Product_category']\n",
    "from collections import Counter\n",
    "c = Counter(list_of_words)\n",
    "c.most_common()"
   ]
  },
  {
   "cell_type": "code",
   "execution_count": 359,
   "metadata": {},
   "outputs": [
    {
     "data": {
      "image/png": "[encoded data removed]",
      "text/plain": [
       "<Figure size 1080x360 with 1 Axes>"
      ]
     },
     "metadata": {
      "needs_background": "light"
     },
     "output_type": "display_data"
    }
   ],
   "source": [
    "data= c.most_common()\n",
    "df = pd.DataFrame(data=data, index=None, columns=['kategorie_produktov', 'navstevnost'])\n",
    "df = df.drop(0)\n",
    "df = df.drop(1)\n",
    "df = df.drop(16)\n",
    "df = df.drop(21)\n",
    "df = df.drop(22)\n",
    "df = df.drop(26)\n",
    "\n",
    "plt.rcParams['figure.figsize'] = [15, 5]\n",
    "df.plot(kind='bar',x='kategorie_produktov',y='navstevnost', color='red')\n",
    "plt.savefig('navstevnost.png', bbox_inches='tight')\n",
    "\n"
   ]
  },
  {
   "cell_type": "code",
   "execution_count": 292,
   "metadata": {},
   "outputs": [
    {
     "data": {
      "text/plain": [
       "13365"
      ]
     },
     "execution_count": 292,
     "metadata": {},
     "output_type": "execute_result"
    }
   ],
   "source": [
    "pocet_pouzivatelov = pristupy[\"User_id\"].nunique()\n",
    "pocet_pouzivatelov"
   ]
  },
  {
   "cell_type": "code",
   "execution_count": 293,
   "metadata": {},
   "outputs": [
    {
     "data": {
      "text/plain": [
       "62966"
      ]
     },
     "execution_count": 293,
     "metadata": {},
     "output_type": "execute_result"
    }
   ],
   "source": [
    "pocet_stranok = len(pristupy)\n",
    "pocet_stranok"
   ]
  },
  {
   "cell_type": "code",
   "execution_count": 294,
   "metadata": {},
   "outputs": [
    {
     "data": {
      "text/plain": [
       "4.7112607557052"
      ]
     },
     "execution_count": 294,
     "metadata": {},
     "output_type": "execute_result"
    }
   ],
   "source": [
    "priemerny_pocet_prezeranych_stranok_pouzivatelom = pocet_stranok/pocet_pouzivatelov\n",
    "priemerny_pocet_prezeranych_stranok_pouzivatelom\n"
   ]
  },
  {
   "cell_type": "code",
   "execution_count": 295,
   "metadata": {},
   "outputs": [
    {
     "data": {
      "text/plain": [
       "22954"
      ]
     },
     "execution_count": 295,
     "metadata": {},
     "output_type": "execute_result"
    }
   ],
   "source": [
    "pocet_sedeni = pristupy[\"Sedenie\"].nunique()\n",
    "pocet_sedeni"
   ]
  },
  {
   "cell_type": "code",
   "execution_count": 296,
   "metadata": {},
   "outputs": [
    {
     "data": {
      "text/plain": [
       "4.76266744321491"
      ]
     },
     "execution_count": 296,
     "metadata": {},
     "output_type": "execute_result"
    }
   ],
   "source": [
    "priemerny_pocet_za_sedenie = 32710/6868\n",
    "priemerny_pocet_za_sedenie"
   ]
  },
  {
   "cell_type": "code",
   "execution_count": 307,
   "metadata": {},
   "outputs": [],
   "source": [
    "addtocart = pd.read_excel(\"add_to_cart.xlsx\")"
   ]
  },
  {
   "cell_type": "code",
   "execution_count": 308,
   "metadata": {},
   "outputs": [
    {
     "data": {
      "text/plain": [
       "200"
      ]
     },
     "execution_count": 308,
     "metadata": {},
     "output_type": "execute_result"
    }
   ],
   "source": [
    "addtocart[\"User_id\"].nunique()"
   ]
  },
  {
   "cell_type": "code",
   "execution_count": 310,
   "metadata": {},
   "outputs": [],
   "source": [
    "orderreceived = pd.read_excel(\"order_received.xlsx\")"
   ]
  },
  {
   "cell_type": "code",
   "execution_count": 361,
   "metadata": {},
   "outputs": [
    {
     "data": {
      "text/plain": [
       "[('product-catalogue', 332),\n",
       " (nan, 110),\n",
       " ('product-category/furniture/seating/dining-sets', 79),\n",
       " ('product-category/furniture/seating', 48),\n",
       " ('product-category/furniture/tables/coffee-tables', 41),\n",
       " ('checkout', 34),\n",
       " ('order-received', 31),\n",
       " ('product-category/furniture/secretaries-cabinets', 27),\n",
       " ('product-category/lighting', 16),\n",
       " ('product-category/lighting/chandeliers-and-pendants', 11),\n",
       " ('product-category/furniture/bookcases', 10),\n",
       " ('product-category/furniture/tables', 9),\n",
       " ('product-category/furniture/wardrobes', 6),\n",
       " ('product-category/decorative-objects', 5),\n",
       " ('product-category/furniture/dressers', 4),\n",
       " ('remove-item', 3),\n",
       " ('product-category/furniture/seating/sofas', 3),\n",
       " ('product-category/furniture/bedrooms', 2)]"
      ]
     },
     "execution_count": 361,
     "metadata": {},
     "output_type": "execute_result"
    }
   ],
   "source": [
    "list_of_words= orderreceived['Product_category']\n",
    "from collections import Counter\n",
    "c = Counter(list_of_words)\n",
    "c.most_common()"
   ]
  },
  {
   "cell_type": "code",
   "execution_count": 363,
   "metadata": {},
   "outputs": [
    {
     "data": {
      "image/png": "[encoded data removed]",
      "text/plain": [
       "<Figure size 1080x360 with 1 Axes>"
      ]
     },
     "metadata": {
      "needs_background": "light"
     },
     "output_type": "display_data"
    }
   ],
   "source": [
    "data= c.most_common()\n",
    "df = pd.DataFrame(data=data, index=None, columns=['kategorie_produktov', 'navstevnost'])\n",
    "df = df.drop(0)\n",
    "df = df.drop(1)\n",
    "plt.rcParams['figure.figsize'] = [15, 5]\n",
    "df.plot(kind='bar',x='kategorie_produktov',y='navstevnost')\n",
    "plt.savefig('objednavky.png', bbox_inches='tight')\n"
   ]
  },
  {
   "cell_type": "code",
   "execution_count": 380,
   "metadata": {},
   "outputs": [],
   "source": [
    "dni = pd.read_excel(\"order_received.xlsx\")"
   ]
  },
  {
   "cell_type": "code",
   "execution_count": 381,
   "metadata": {},
   "outputs": [],
   "source": [
    "nakupy = dni[dni[\"Page\"]==\"order-received\"]"
   ]
  },
  {
   "cell_type": "code",
   "execution_count": 382,
   "metadata": {},
   "outputs": [
    {
     "data": {
      "text/plain": [
       "[('Pon', 7),\n",
       " ('Pia', 7),\n",
       " ('Ne', 6),\n",
       " ('Ut', 4),\n",
       " ('Str', 4),\n",
       " ('Stv', 2),\n",
       " ('So', 1)]"
      ]
     },
     "execution_count": 382,
     "metadata": {},
     "output_type": "execute_result"
    }
   ],
   "source": [
    "list_of_words= nakupy['Den']\n",
    "from collections import Counter\n",
    "c = Counter(list_of_words)\n",
    "c.most_common()"
   ]
  },
  {
   "cell_type": "code",
   "execution_count": 383,
   "metadata": {},
   "outputs": [
    {
     "name": "stderr",
     "output_type": "stream",
     "text": [
      "<ipython-input-383-67177b91deeb>:5: MatplotlibDeprecationWarning: savefig() got unexpected keyword argument \"box_inches\" which is no longer supported as of 3.3 and will become an error two minor releases later\n",
      "  plt.savefig('nakupy.png', box_inches='tigh')\n"
     ]
    },
    {
     "data": {
      "image/png": "[encoded data removed]",
      "text/plain": [
       "<Figure size 1080x360 with 1 Axes>"
      ]
     },
     "metadata": {
      "needs_background": "light"
     },
     "output_type": "display_data"
    }
   ],
   "source": [
    "data= c.most_common()\n",
    "df = pd.DataFrame(data=data, index=None, columns=['dni', 'objednavky'])\n",
    "plt.rcParams['figure.figsize'] = [15, 5]\n",
    "df.plot(kind='bar',x='dni',y='objednavky', color=\"green\")\n",
    "plt.savefig('nakupy.png', box_inches='tigh')"
   ]
  },
  {
   "cell_type": "code",
   "execution_count": 400,
   "metadata": {},
   "outputs": [
    {
     "data": {
      "text/plain": [
       "[(19, 4),\n",
       " (23, 4),\n",
       " (21, 3),\n",
       " (8, 2),\n",
       " (15, 2),\n",
       " (12, 2),\n",
       " (13, 2),\n",
       " (11, 2),\n",
       " (18, 2),\n",
       " (2, 1),\n",
       " (1, 1),\n",
       " (14, 1),\n",
       " (22, 1),\n",
       " (20, 1),\n",
       " (16, 1),\n",
       " (9, 1),\n",
       " (0, 1)]"
      ]
     },
     "execution_count": 400,
     "metadata": {},
     "output_type": "execute_result"
    }
   ],
   "source": [
    "list_of_words= nakupy['Hodina']\n",
    "from collections import Counter\n",
    "c = Counter(list_of_words)\n",
    "c.most_common()"
   ]
  },
  {
   "cell_type": "code",
   "execution_count": 401,
   "metadata": {},
   "outputs": [
    {
     "name": "stderr",
     "output_type": "stream",
     "text": [
      "<ipython-input-401-91478b8a97ed>:5: MatplotlibDeprecationWarning: savefig() got unexpected keyword argument \"box_inches\" which is no longer supported as of 3.3 and will become an error two minor releases later\n",
      "  plt.savefig('hodiny.png', box_inches='tigh')\n"
     ]
    },
    {
     "data": {
      "image/png": "[encoded data removed]",
      "text/plain": [
       "<Figure size 1080x360 with 1 Axes>"
      ]
     },
     "metadata": {
      "needs_background": "light"
     },
     "output_type": "display_data"
    }
   ],
   "source": [
    "data= c.most_common()\n",
    "df = pd.DataFrame(data=data, index=None, columns=['hodina', 'objednavky'])\n",
    "plt.rcParams['figure.figsize'] = [15, 5]\n",
    "df.plot(kind='bar',x='hodina',y='objednavky', color=\"green\")\n",
    "plt.savefig('hodiny.png', box_inches='tigh')"
   ]
  },
  {
   "cell_type": "code",
   "execution_count": 403,
   "metadata": {},
   "outputs": [],
   "source": [
    "df = pd.read_excel(\"kategorizacia.xlsx\")"
   ]
  },
  {
   "cell_type": "code",
   "execution_count": 385,
   "metadata": {},
   "outputs": [
    {
     "data": {
      "text/plain": [
       "[(2, 12490), (1, 10737), (7, 9427), (4, 7919), (5, 7070), (3, 6727), (6, 6722)]"
      ]
     },
     "execution_count": 385,
     "metadata": {},
     "output_type": "execute_result"
    }
   ],
   "source": [
    "list_of_words= df['Den']\n",
    "from collections import Counter\n",
    "c = Counter(list_of_words)\n",
    "c.most_common()"
   ]
  },
  {
   "cell_type": "code",
   "execution_count": 387,
   "metadata": {},
   "outputs": [
    {
     "name": "stderr",
     "output_type": "stream",
     "text": [
      "<ipython-input-387-a9ee855015ea>:5: MatplotlibDeprecationWarning: savefig() got unexpected keyword argument \"box_inches\" which is no longer supported as of 3.3 and will become an error two minor releases later\n",
      "  plt.savefig('navstevnost.png', box_inches='tigh')\n"
     ]
    },
    {
     "data": {
      "image/png": "[encoded data removed]",
      "text/plain": [
       "<Figure size 1080x360 with 1 Axes>"
      ]
     },
     "metadata": {
      "needs_background": "light"
     },
     "output_type": "display_data"
    }
   ],
   "source": [
    "data= c.most_common()\n",
    "df = pd.DataFrame(data=data, index=None, columns=['dni', 'navstevnost'])\n",
    "plt.rcParams['figure.figsize'] = [15, 5]\n",
    "df.plot(kind='bar',x='dni',y='navstevnost', color=\"red\")\n",
    "plt.savefig('navstevnost.png', box_inches='tigh')"
   ]
  },
  {
   "cell_type": "code",
   "execution_count": 404,
   "metadata": {},
   "outputs": [
    {
     "data": {
      "text/plain": [
       "[(1, 4169),\n",
       " (22, 3185),\n",
       " (21, 2884),\n",
       " (19, 2849),\n",
       " (6, 2788),\n",
       " (15, 2755),\n",
       " (5, 2707),\n",
       " (14, 2696),\n",
       " (20, 2695),\n",
       " (18, 2679),\n",
       " (17, 2527),\n",
       " (7, 2480),\n",
       " (8, 2480),\n",
       " (23, 2432),\n",
       " (10, 2358),\n",
       " (4, 2340),\n",
       " (11, 2317),\n",
       " (16, 2270),\n",
       " (9, 2253),\n",
       " (13, 2161),\n",
       " (12, 2086),\n",
       " (2, 2011),\n",
       " (3, 2008),\n",
       " (0, 1962)]"
      ]
     },
     "execution_count": 404,
     "metadata": {},
     "output_type": "execute_result"
    }
   ],
   "source": [
    "list_of_words= df['hodina']\n",
    "from collections import Counter\n",
    "c = Counter(list_of_words)\n",
    "c.most_common()"
   ]
  },
  {
   "cell_type": "code",
   "execution_count": 408,
   "metadata": {},
   "outputs": [
    {
     "data": {
      "image/png": "[encoded data removed]",
      "text/plain": [
       "<Figure size 1080x360 with 1 Axes>"
      ]
     },
     "metadata": {
      "needs_background": "light"
     },
     "output_type": "display_data"
    }
   ],
   "source": [
    "data= c.most_common()\n",
    "df = pd.DataFrame(data=data, index=None, columns=['hodiny', 'navstevnost'])\n",
    "plt.rcParams['figure.figsize'] = [15, 5]\n",
    "df.plot(kind='bar',x='hodiny',y='navstevnost')\n",
    "plt.savefig('hodiny1.png')"
   ]
  },
  {
   "cell_type": "code",
   "execution_count": null,
   "metadata": {},
   "outputs": [],
   "source": []
  }
 ],
 "metadata": {
  "kernelspec": {
   "display_name": "Python 3",
   "language": "python",
   "name": "python3"
  },
  "language_info": {
   "codemirror_mode": {
    "name": "ipython",
    "version": 3
   },
   "file_extension": ".py",
   "mimetype": "text/x-python",
   "name": "python",
   "nbconvert_exporter": "python",
   "pygments_lexer": "ipython3",
   "version": "3.8.5"
  }
 },
 "nbformat": 4,
 "nbformat_minor": 4
}
